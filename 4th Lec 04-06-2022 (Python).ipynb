{
 "cells": [
  {
   "cell_type": "code",
   "execution_count": 7,
   "id": "f24e33b9",
   "metadata": {},
   "outputs": [],
   "source": [
    "dct = {\"name\":\"anubhav\", \"lname\":\"sharma\"}"
   ]
  },
  {
   "cell_type": "code",
   "execution_count": 8,
   "id": "677e50b3",
   "metadata": {},
   "outputs": [
    {
     "data": {
      "text/plain": [
       "'anubhav'"
      ]
     },
     "execution_count": 8,
     "metadata": {},
     "output_type": "execute_result"
    }
   ],
   "source": [
    "dct[\"name\"]"
   ]
  },
  {
   "cell_type": "code",
   "execution_count": 9,
   "id": "3ed01033",
   "metadata": {},
   "outputs": [
    {
     "data": {
      "text/plain": [
       "'sharma'"
      ]
     },
     "execution_count": 9,
     "metadata": {},
     "output_type": "execute_result"
    }
   ],
   "source": [
    "dct[\"lname\"]"
   ]
  },
  {
   "cell_type": "code",
   "execution_count": 10,
   "id": "afafcd2f",
   "metadata": {},
   "outputs": [],
   "source": [
    "ele = dct.pop(\"lname\")"
   ]
  },
  {
   "cell_type": "code",
   "execution_count": 11,
   "id": "2326fea0",
   "metadata": {},
   "outputs": [
    {
     "data": {
      "text/plain": [
       "'sharma'"
      ]
     },
     "execution_count": 11,
     "metadata": {},
     "output_type": "execute_result"
    }
   ],
   "source": [
    "ele"
   ]
  },
  {
   "cell_type": "code",
   "execution_count": 12,
   "id": "f511377b",
   "metadata": {},
   "outputs": [
    {
     "data": {
      "text/plain": [
       "{'name': 'anubhav'}"
      ]
     },
     "execution_count": 12,
     "metadata": {},
     "output_type": "execute_result"
    }
   ],
   "source": [
    "dct"
   ]
  },
  {
   "cell_type": "code",
   "execution_count": null,
   "id": "0a7ace99",
   "metadata": {},
   "outputs": [],
   "source": []
  },
  {
   "cell_type": "markdown",
   "id": "d1e8e98e",
   "metadata": {},
   "source": [
    "# Conditional Statements\n",
    "# If statement"
   ]
  },
  {
   "cell_type": "markdown",
   "id": "e42cd38c",
   "metadata": {},
   "source": [
    "# if condition:\n",
    "# ----If code Body"
   ]
  },
  {
   "cell_type": "code",
   "execution_count": 16,
   "id": "53c77578",
   "metadata": {},
   "outputs": [
    {
     "name": "stdout",
     "output_type": "stream",
     "text": [
      "show him simple excute program with less functionality\n"
     ]
    }
   ],
   "source": [
    "person = \"Elder\"\n",
    "if person == \"Elder\":\n",
    "    print(\"show him simple excute program with less functionality\")\n",
    "if person == \"Young\":\n",
    "    print(\"show him complex program with lot of functionalities\")"
   ]
  },
  {
   "cell_type": "code",
   "execution_count": 17,
   "id": "62c5788e",
   "metadata": {},
   "outputs": [
    {
     "name": "stdout",
     "output_type": "stream",
     "text": [
      "show him complex program with lot of functionalities\n"
     ]
    }
   ],
   "source": [
    "person = \"Young\"\n",
    "if person == \"Elder\":\n",
    "    print(\"show him simple excute program with less functionality\")\n",
    "if person == \"Young\":\n",
    "    print(\"show him complex program with lot of functionalities\")"
   ]
  },
  {
   "cell_type": "code",
   "execution_count": null,
   "id": "69bc54cd",
   "metadata": {},
   "outputs": [],
   "source": []
  },
  {
   "cell_type": "markdown",
   "id": "8afcbb6c",
   "metadata": {},
   "source": [
    "# Input function"
   ]
  },
  {
   "cell_type": "code",
   "execution_count": 18,
   "id": "09db38a9",
   "metadata": {},
   "outputs": [
    {
     "name": "stdout",
     "output_type": "stream",
     "text": [
      "Young\n",
      "show him complex program with lot of functionalities\n"
     ]
    }
   ],
   "source": [
    "person = input()\n",
    "if person == \"Elder\":\n",
    "    print(\"show him simple excute program with less functionality\")\n",
    "if person == \"Young\":\n",
    "    print(\"show him complex program with lot of functionalities\")"
   ]
  },
  {
   "cell_type": "code",
   "execution_count": 19,
   "id": "95e1661a",
   "metadata": {},
   "outputs": [
    {
     "name": "stdout",
     "output_type": "stream",
     "text": [
      "Elder\n",
      "show him simple excute program with less functionality\n"
     ]
    }
   ],
   "source": [
    "person = input()\n",
    "if person == \"Elder\":\n",
    "    print(\"show him simple excute program with less functionality\")\n",
    "if person == \"Young\":\n",
    "    print(\"show him complex program with lot of functionalities\")"
   ]
  },
  {
   "cell_type": "code",
   "execution_count": 1,
   "id": "abd9c384",
   "metadata": {},
   "outputs": [
    {
     "name": "stdout",
     "output_type": "stream",
     "text": [
      "Enter you are Elder or Young->Elder\n",
      "show him simple excute program with less functionality\n"
     ]
    }
   ],
   "source": [
    "person = input(\"Enter you are Elder or Young->\")\n",
    "if person == \"Elder\":\n",
    "    print(\"show him simple excute program with less functionality\")\n",
    "if person == \"Young\":\n",
    "    print(\"show him complex program with lot of functionalities\")"
   ]
  },
  {
   "cell_type": "code",
   "execution_count": null,
   "id": "2fc24645",
   "metadata": {},
   "outputs": [],
   "source": []
  },
  {
   "cell_type": "markdown",
   "id": "b62ef7e9",
   "metadata": {},
   "source": [
    "# Even-Odd Number in If statement"
   ]
  },
  {
   "cell_type": "code",
   "execution_count": 3,
   "id": "93c6fbcd",
   "metadata": {},
   "outputs": [
    {
     "name": "stdout",
     "output_type": "stream",
     "text": [
      "Enter the number you want to check whether it odd or even---->56\n"
     ]
    }
   ],
   "source": [
    "number = input(\"Enter the number you want to check whether it odd or even---->\")\n"
   ]
  },
  {
   "cell_type": "code",
   "execution_count": 4,
   "id": "80498f51",
   "metadata": {},
   "outputs": [
    {
     "data": {
      "text/plain": [
       "str"
      ]
     },
     "execution_count": 4,
     "metadata": {},
     "output_type": "execute_result"
    }
   ],
   "source": [
    "type(number)"
   ]
  },
  {
   "cell_type": "code",
   "execution_count": 5,
   "id": "fc05cb5c",
   "metadata": {},
   "outputs": [
    {
     "name": "stdout",
     "output_type": "stream",
     "text": [
      "Enter the number you want to check whether it odd or even---->32\n"
     ]
    }
   ],
   "source": [
    "#suppose we want to enter integer number\n",
    "number = int(input(\"Enter the number you want to check whether it odd or even---->\"))"
   ]
  },
  {
   "cell_type": "code",
   "execution_count": 6,
   "id": "7b5baa83",
   "metadata": {},
   "outputs": [
    {
     "data": {
      "text/plain": [
       "int"
      ]
     },
     "execution_count": 6,
     "metadata": {},
     "output_type": "execute_result"
    }
   ],
   "source": [
    "type(number)"
   ]
  },
  {
   "cell_type": "code",
   "execution_count": 6,
   "id": "8c18db2a",
   "metadata": {},
   "outputs": [
    {
     "name": "stdout",
     "output_type": "stream",
     "text": [
      "Enter the number you want to check whether it odd or even---->58\n",
      "Number is even\n"
     ]
    }
   ],
   "source": [
    "number1 = int(input(\"Enter the number you want to check whether it odd or even---->\"))\n",
    "if number1%2 == 0:\n",
    "    print(\"Number is even\")\n",
    "if number1%2 == 1:\n",
    "    print(\"Number is odd\")"
   ]
  },
  {
   "cell_type": "markdown",
   "id": "a989e63c",
   "metadata": {},
   "source": [
    "# Which number is Greater?"
   ]
  },
  {
   "cell_type": "code",
   "execution_count": 5,
   "id": "f420f7b5",
   "metadata": {},
   "outputs": [
    {
     "name": "stdout",
     "output_type": "stream",
     "text": [
      "Please Enter the number1---->>85\n",
      "Please Enter the number2---->>78\n",
      "Number1 is greater\n"
     ]
    }
   ],
   "source": [
    "number1 = int(input(\"Please Enter the number1---->>\"))\n",
    "number2 = int(input(\"Please Enter the number2---->>\"))\n",
    "\n",
    "if number1>number2:\n",
    "    print(\"Number1 is greater\")\n",
    "if number2>number1:\n",
    "    print(\"Number2 is greater\")"
   ]
  },
  {
   "cell_type": "code",
   "execution_count": 7,
   "id": "fc7c71ea",
   "metadata": {},
   "outputs": [
    {
     "name": "stdout",
     "output_type": "stream",
     "text": [
      "Please Enter the number1---->>123\n",
      "Please Enter the number2---->>321\n",
      "Please Enter the number---->>584\n",
      "c is largest\n"
     ]
    }
   ],
   "source": [
    "a = int(input(\"Please Enter the number1---->>\"))\n",
    "b = int(input(\"Please Enter the number2---->>\"))\n",
    "c = int(input(\"Please Enter the number---->>\"))\n",
    "if a>b and a>c:\n",
    "    print(\"a is largest\")\n",
    "if b>a and b>c:\n",
    "    print(\"b is largest\")\n",
    "if c>a and c>b:\n",
    "    print(\"c is largest\")"
   ]
  },
  {
   "cell_type": "markdown",
   "id": "58a8d2bd",
   "metadata": {},
   "source": [
    "# If Else Statement"
   ]
  },
  {
   "cell_type": "code",
   "execution_count": 8,
   "id": "fb67321f",
   "metadata": {},
   "outputs": [
    {
     "name": "stdout",
     "output_type": "stream",
     "text": [
      "Enter the percentage89.2\n",
      "phone\n"
     ]
    }
   ],
   "source": [
    "per = float(input(\"Enter the percentage\"))\n",
    "if per > 80:\n",
    "    print(\"phone\")\n",
    "else:\n",
    "    print(\"pocket money stopped\")"
   ]
  },
  {
   "cell_type": "code",
   "execution_count": 10,
   "id": "f0242456",
   "metadata": {},
   "outputs": [
    {
     "name": "stdout",
     "output_type": "stream",
     "text": [
      "Enter the age-->>15\n",
      "not eligible for voting\n"
     ]
    }
   ],
   "source": [
    "age = int(input(\"Enter the age-->>\"))\n",
    "if age >=18:\n",
    "    print(\"elegible for voting\")\n",
    "else:\n",
    "    print(\"not eligible for voting\")"
   ]
  },
  {
   "cell_type": "code",
   "execution_count": 11,
   "id": "3fdea966",
   "metadata": {},
   "outputs": [
    {
     "name": "stdout",
     "output_type": "stream",
     "text": [
      "Enter the Number you want to check whether it is even or odd-->>56\n",
      "Even\n"
     ]
    }
   ],
   "source": [
    "number = int(input(\"Enter the Number you want to check whether it is even or odd-->>\"))\n",
    "if number%2 == 0:\n",
    "    print(\"Even\")\n",
    "else:\n",
    "    print(\"Odd\")"
   ]
  },
  {
   "cell_type": "markdown",
   "id": "2140643f",
   "metadata": {},
   "source": [
    "# ElIf Statement"
   ]
  },
  {
   "cell_type": "code",
   "execution_count": 1,
   "id": "5ec24e5b",
   "metadata": {},
   "outputs": [
    {
     "name": "stdout",
     "output_type": "stream",
     "text": [
      "Enter the percentage85\n",
      "Smartphone\n",
      "Cycle\n"
     ]
    }
   ],
   "source": [
    "per = float(input(\"Enter the percentage\"))\n",
    "if per > 80:\n",
    "    print(\"Smartphone\")\n",
    "if per >70:\n",
    "    print(\"Cycle\")\n",
    "else:\n",
    "    print(\"pms\")"
   ]
  },
  {
   "cell_type": "code",
   "execution_count": 3,
   "id": "67f868d7",
   "metadata": {},
   "outputs": [
    {
     "name": "stdout",
     "output_type": "stream",
     "text": [
      "Enter the percentage70.2\n",
      "Cycle\n"
     ]
    }
   ],
   "source": [
    "per = float(input(\"Enter the percentage\"))\n",
    "if per > 80:\n",
    "    print(\"Smartphone\")\n",
    "elif per >70:\n",
    "    print(\"Cycle\")\n",
    "else:\n",
    "    print(\"pms\")"
   ]
  },
  {
   "cell_type": "markdown",
   "id": "8eb019f2",
   "metadata": {},
   "source": [
    "# Operators\n",
    "# a==b, a!=b, a<b, a<=b, a>b, a>=b "
   ]
  },
  {
   "cell_type": "code",
   "execution_count": null,
   "id": "47158702",
   "metadata": {},
   "outputs": [],
   "source": []
  }
 ],
 "metadata": {
  "kernelspec": {
   "display_name": "Python 3 (ipykernel)",
   "language": "python",
   "name": "python3"
  },
  "language_info": {
   "codemirror_mode": {
    "name": "ipython",
    "version": 3
   },
   "file_extension": ".py",
   "mimetype": "text/x-python",
   "name": "python",
   "nbconvert_exporter": "python",
   "pygments_lexer": "ipython3",
   "version": "3.9.12"
  }
 },
 "nbformat": 4,
 "nbformat_minor": 5
}
