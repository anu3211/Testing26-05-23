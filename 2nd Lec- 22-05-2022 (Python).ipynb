{
 "cells": [
  {
   "cell_type": "code",
   "execution_count": 1,
   "id": "7f9ee19d",
   "metadata": {},
   "outputs": [],
   "source": [
    "a = \"ajay\""
   ]
  },
  {
   "cell_type": "code",
   "execution_count": 2,
   "id": "4916044f",
   "metadata": {},
   "outputs": [
    {
     "data": {
      "text/plain": [
       "'ajay'"
      ]
     },
     "execution_count": 2,
     "metadata": {},
     "output_type": "execute_result"
    }
   ],
   "source": [
    "a"
   ]
  },
  {
   "cell_type": "code",
   "execution_count": 3,
   "id": "428edc39",
   "metadata": {},
   "outputs": [],
   "source": [
    "a = \"xyz\""
   ]
  },
  {
   "cell_type": "code",
   "execution_count": 4,
   "id": "96495764",
   "metadata": {},
   "outputs": [
    {
     "data": {
      "text/plain": [
       "'xyz'"
      ]
     },
     "execution_count": 4,
     "metadata": {},
     "output_type": "execute_result"
    }
   ],
   "source": [
    "a"
   ]
  },
  {
   "cell_type": "code",
   "execution_count": 5,
   "id": "1be4ba8d",
   "metadata": {},
   "outputs": [
    {
     "data": {
      "text/plain": [
       "'xyz'"
      ]
     },
     "execution_count": 5,
     "metadata": {},
     "output_type": "execute_result"
    }
   ],
   "source": [
    "a"
   ]
  },
  {
   "cell_type": "code",
   "execution_count": 6,
   "id": "42a9dfbf",
   "metadata": {},
   "outputs": [],
   "source": [
    "a = \"abv\""
   ]
  },
  {
   "cell_type": "code",
   "execution_count": 7,
   "id": "1b7e6811",
   "metadata": {},
   "outputs": [
    {
     "data": {
      "text/plain": [
       "'abv'"
      ]
     },
     "execution_count": 7,
     "metadata": {},
     "output_type": "execute_result"
    }
   ],
   "source": [
    "a"
   ]
  },
  {
   "cell_type": "code",
   "execution_count": 8,
   "id": "f4a71381",
   "metadata": {},
   "outputs": [],
   "source": [
    "bag = \"anu\""
   ]
  },
  {
   "cell_type": "code",
   "execution_count": 9,
   "id": "df99471c",
   "metadata": {},
   "outputs": [
    {
     "ename": "NameError",
     "evalue": "name '_bag' is not defined",
     "output_type": "error",
     "traceback": [
      "\u001b[1;31m---------------------------------------------------------------------------\u001b[0m",
      "\u001b[1;31mNameError\u001b[0m                                 Traceback (most recent call last)",
      "Input \u001b[1;32mIn [9]\u001b[0m, in \u001b[0;36m<cell line: 1>\u001b[1;34m()\u001b[0m\n\u001b[1;32m----> 1\u001b[0m \u001b[43m_bag\u001b[49m\n",
      "\u001b[1;31mNameError\u001b[0m: name '_bag' is not defined"
     ]
    }
   ],
   "source": [
    "_bag"
   ]
  },
  {
   "cell_type": "code",
   "execution_count": 10,
   "id": "f78e9c62",
   "metadata": {},
   "outputs": [
    {
     "data": {
      "text/plain": [
       "'anu'"
      ]
     },
     "execution_count": 10,
     "metadata": {},
     "output_type": "execute_result"
    }
   ],
   "source": [
    "bag"
   ]
  },
  {
   "cell_type": "code",
   "execution_count": 1,
   "id": "fea1602e",
   "metadata": {},
   "outputs": [],
   "source": [
    "_bag = \"anu\""
   ]
  },
  {
   "cell_type": "code",
   "execution_count": 2,
   "id": "a8d38d09",
   "metadata": {},
   "outputs": [],
   "source": [
    "_bag = \"bh\""
   ]
  },
  {
   "cell_type": "code",
   "execution_count": 3,
   "id": "da4eec7e",
   "metadata": {},
   "outputs": [
    {
     "ename": "NameError",
     "evalue": "name 'bag' is not defined",
     "output_type": "error",
     "traceback": [
      "\u001b[1;31m---------------------------------------------------------------------------\u001b[0m",
      "\u001b[1;31mNameError\u001b[0m                                 Traceback (most recent call last)",
      "Input \u001b[1;32mIn [3]\u001b[0m, in \u001b[0;36m<cell line: 1>\u001b[1;34m()\u001b[0m\n\u001b[1;32m----> 1\u001b[0m \u001b[43mbag\u001b[49m\n",
      "\u001b[1;31mNameError\u001b[0m: name 'bag' is not defined"
     ]
    }
   ],
   "source": [
    "bag"
   ]
  },
  {
   "cell_type": "code",
   "execution_count": null,
   "id": "213aa767",
   "metadata": {},
   "outputs": [],
   "source": []
  },
  {
   "cell_type": "code",
   "execution_count": 14,
   "id": "f2a6de08",
   "metadata": {},
   "outputs": [
    {
     "data": {
      "text/plain": [
       "'anu'"
      ]
     },
     "execution_count": 14,
     "metadata": {},
     "output_type": "execute_result"
    }
   ],
   "source": [
    "bag"
   ]
  },
  {
   "cell_type": "code",
   "execution_count": 15,
   "id": "527cd565",
   "metadata": {},
   "outputs": [
    {
     "data": {
      "text/plain": [
       "'bh'"
      ]
     },
     "execution_count": 15,
     "metadata": {},
     "output_type": "execute_result"
    }
   ],
   "source": [
    "_bag"
   ]
  },
  {
   "cell_type": "code",
   "execution_count": 8,
   "id": "2665985e",
   "metadata": {},
   "outputs": [],
   "source": [
    "a = \"123\""
   ]
  },
  {
   "cell_type": "code",
   "execution_count": 5,
   "id": "86b860e8",
   "metadata": {},
   "outputs": [],
   "source": [
    "abc = 123"
   ]
  },
  {
   "cell_type": "code",
   "execution_count": 9,
   "id": "5153238b",
   "metadata": {},
   "outputs": [
    {
     "data": {
      "text/plain": [
       "'123'"
      ]
     },
     "execution_count": 9,
     "metadata": {},
     "output_type": "execute_result"
    }
   ],
   "source": [
    "a"
   ]
  },
  {
   "cell_type": "code",
   "execution_count": 6,
   "id": "deb6f6ae",
   "metadata": {},
   "outputs": [
    {
     "data": {
      "text/plain": [
       "123"
      ]
     },
     "execution_count": 6,
     "metadata": {},
     "output_type": "execute_result"
    }
   ],
   "source": [
    "abc"
   ]
  },
  {
   "cell_type": "code",
   "execution_count": 10,
   "id": "c5fdda0a",
   "metadata": {},
   "outputs": [
    {
     "data": {
      "text/plain": [
       "str"
      ]
     },
     "execution_count": 10,
     "metadata": {},
     "output_type": "execute_result"
    }
   ],
   "source": [
    "type(a)"
   ]
  },
  {
   "cell_type": "code",
   "execution_count": 1,
   "id": "cea38024",
   "metadata": {},
   "outputs": [],
   "source": [
    "a = 1"
   ]
  },
  {
   "cell_type": "code",
   "execution_count": 2,
   "id": "1d84d917",
   "metadata": {},
   "outputs": [
    {
     "data": {
      "text/plain": [
       "1"
      ]
     },
     "execution_count": 2,
     "metadata": {},
     "output_type": "execute_result"
    }
   ],
   "source": [
    "a"
   ]
  },
  {
   "cell_type": "code",
   "execution_count": 3,
   "id": "247bd64e",
   "metadata": {},
   "outputs": [],
   "source": [
    "a = \"bnhg\""
   ]
  },
  {
   "cell_type": "code",
   "execution_count": 4,
   "id": "f2f5e19c",
   "metadata": {},
   "outputs": [
    {
     "data": {
      "text/plain": [
       "'bnhg'"
      ]
     },
     "execution_count": 4,
     "metadata": {},
     "output_type": "execute_result"
    }
   ],
   "source": [
    "a"
   ]
  },
  {
   "cell_type": "code",
   "execution_count": 5,
   "id": "313d3410",
   "metadata": {},
   "outputs": [],
   "source": [
    "bag = \"empty\""
   ]
  },
  {
   "cell_type": "code",
   "execution_count": 6,
   "id": "d141d11c",
   "metadata": {},
   "outputs": [],
   "source": [
    "_bag = \"emptyness\""
   ]
  },
  {
   "cell_type": "code",
   "execution_count": 7,
   "id": "57c80420",
   "metadata": {},
   "outputs": [
    {
     "data": {
      "text/plain": [
       "'empty'"
      ]
     },
     "execution_count": 7,
     "metadata": {},
     "output_type": "execute_result"
    }
   ],
   "source": [
    "bag"
   ]
  },
  {
   "cell_type": "code",
   "execution_count": 8,
   "id": "e67583e8",
   "metadata": {},
   "outputs": [
    {
     "data": {
      "text/plain": [
       "'emptyness'"
      ]
     },
     "execution_count": 8,
     "metadata": {},
     "output_type": "execute_result"
    }
   ],
   "source": [
    "_bag"
   ]
  },
  {
   "cell_type": "code",
   "execution_count": 9,
   "id": "507cce77",
   "metadata": {},
   "outputs": [
    {
     "ename": "SyntaxError",
     "evalue": "invalid syntax (4279990017.py, line 1)",
     "output_type": "error",
     "traceback": [
      "\u001b[1;36m  Input \u001b[1;32mIn [9]\u001b[1;36m\u001b[0m\n\u001b[1;33m    1b = 12\u001b[0m\n\u001b[1;37m     ^\u001b[0m\n\u001b[1;31mSyntaxError\u001b[0m\u001b[1;31m:\u001b[0m invalid syntax\n"
     ]
    }
   ],
   "source": [
    "1b = 12"
   ]
  },
  {
   "cell_type": "code",
   "execution_count": 2,
   "id": "d769fcf1",
   "metadata": {},
   "outputs": [],
   "source": [
    "name = \"anubhav\""
   ]
  },
  {
   "cell_type": "code",
   "execution_count": 3,
   "id": "35c6f814",
   "metadata": {},
   "outputs": [],
   "source": [
    "NAME = \"anubhav\""
   ]
  },
  {
   "cell_type": "code",
   "execution_count": 4,
   "id": "7d0a7807",
   "metadata": {},
   "outputs": [
    {
     "data": {
      "text/plain": [
       "'anubhav'"
      ]
     },
     "execution_count": 4,
     "metadata": {},
     "output_type": "execute_result"
    }
   ],
   "source": [
    "name"
   ]
  },
  {
   "cell_type": "code",
   "execution_count": 5,
   "id": "d17769cf",
   "metadata": {},
   "outputs": [
    {
     "data": {
      "text/plain": [
       "'anubhav'"
      ]
     },
     "execution_count": 5,
     "metadata": {},
     "output_type": "execute_result"
    }
   ],
   "source": [
    "NAME"
   ]
  },
  {
   "cell_type": "code",
   "execution_count": 9,
   "id": "e6f134ec",
   "metadata": {},
   "outputs": [
    {
     "data": {
      "text/plain": [
       "True"
      ]
     },
     "execution_count": 9,
     "metadata": {},
     "output_type": "execute_result"
    }
   ],
   "source": [
    "NAME == name"
   ]
  },
  {
   "cell_type": "code",
   "execution_count": 15,
   "id": "3d55a4e8",
   "metadata": {},
   "outputs": [
    {
     "ename": "SyntaxError",
     "evalue": "invalid syntax (609930878.py, line 1)",
     "output_type": "error",
     "traceback": [
      "\u001b[1;36m  Input \u001b[1;32mIn [15]\u001b[1;36m\u001b[0m\n\u001b[1;33m    for = 123\u001b[0m\n\u001b[1;37m        ^\u001b[0m\n\u001b[1;31mSyntaxError\u001b[0m\u001b[1;31m:\u001b[0m invalid syntax\n"
     ]
    }
   ],
   "source": [
    "for = 123"
   ]
  },
  {
   "cell_type": "code",
   "execution_count": 16,
   "id": "c43c617a",
   "metadata": {},
   "outputs": [],
   "source": [
    "x=1"
   ]
  },
  {
   "cell_type": "code",
   "execution_count": 17,
   "id": "e912aad6",
   "metadata": {},
   "outputs": [],
   "source": [
    "y=1.5"
   ]
  },
  {
   "cell_type": "code",
   "execution_count": 18,
   "id": "e6dc9ad6",
   "metadata": {},
   "outputs": [],
   "source": [
    "z=2j"
   ]
  },
  {
   "cell_type": "code",
   "execution_count": 19,
   "id": "d7997d03",
   "metadata": {},
   "outputs": [
    {
     "data": {
      "text/plain": [
       "int"
      ]
     },
     "execution_count": 19,
     "metadata": {},
     "output_type": "execute_result"
    }
   ],
   "source": [
    "type(x)"
   ]
  },
  {
   "cell_type": "code",
   "execution_count": 20,
   "id": "a0b639ef",
   "metadata": {},
   "outputs": [
    {
     "data": {
      "text/plain": [
       "type[1.5]"
      ]
     },
     "execution_count": 20,
     "metadata": {},
     "output_type": "execute_result"
    }
   ],
   "source": [
    "type[y]"
   ]
  },
  {
   "cell_type": "code",
   "execution_count": 21,
   "id": "c76c24d9",
   "metadata": {},
   "outputs": [
    {
     "data": {
      "text/plain": [
       "float"
      ]
     },
     "execution_count": 21,
     "metadata": {},
     "output_type": "execute_result"
    }
   ],
   "source": [
    "type(y)"
   ]
  },
  {
   "cell_type": "code",
   "execution_count": 22,
   "id": "e6f38941",
   "metadata": {},
   "outputs": [
    {
     "data": {
      "text/plain": [
       "complex"
      ]
     },
     "execution_count": 22,
     "metadata": {},
     "output_type": "execute_result"
    }
   ],
   "source": [
    "type(z)"
   ]
  },
  {
   "cell_type": "code",
   "execution_count": 23,
   "id": "c5e3c9fa",
   "metadata": {},
   "outputs": [],
   "source": [
    "# my name is anubhav"
   ]
  },
  {
   "cell_type": "code",
   "execution_count": 24,
   "id": "680f531b",
   "metadata": {},
   "outputs": [],
   "source": [
    "a=float(x)"
   ]
  },
  {
   "cell_type": "code",
   "execution_count": 25,
   "id": "1681a007",
   "metadata": {},
   "outputs": [
    {
     "data": {
      "text/plain": [
       "1.0"
      ]
     },
     "execution_count": 25,
     "metadata": {},
     "output_type": "execute_result"
    }
   ],
   "source": [
    "a"
   ]
  },
  {
   "cell_type": "code",
   "execution_count": 26,
   "id": "4aff4b6d",
   "metadata": {},
   "outputs": [],
   "source": [
    "b=int(y)"
   ]
  },
  {
   "cell_type": "code",
   "execution_count": 27,
   "id": "5bd16f98",
   "metadata": {},
   "outputs": [
    {
     "data": {
      "text/plain": [
       "1"
      ]
     },
     "execution_count": 27,
     "metadata": {},
     "output_type": "execute_result"
    }
   ],
   "source": [
    "b"
   ]
  },
  {
   "cell_type": "code",
   "execution_count": 28,
   "id": "5ee54744",
   "metadata": {},
   "outputs": [
    {
     "ename": "TypeError",
     "evalue": "'c' is an invalid keyword argument for print()",
     "output_type": "error",
     "traceback": [
      "\u001b[1;31m---------------------------------------------------------------------------\u001b[0m",
      "\u001b[1;31mTypeError\u001b[0m                                 Traceback (most recent call last)",
      "Input \u001b[1;32mIn [28]\u001b[0m, in \u001b[0;36m<cell line: 1>\u001b[1;34m()\u001b[0m\n\u001b[1;32m----> 1\u001b[0m \u001b[38;5;28;43mprint\u001b[39;49m\u001b[43m(\u001b[49m\u001b[43mc\u001b[49m\u001b[38;5;241;43m=\u001b[39;49m\u001b[38;5;28;43mcomplex\u001b[39;49m\u001b[43m(\u001b[49m\u001b[43mx\u001b[49m\u001b[43m)\u001b[49m\u001b[43m)\u001b[49m\n",
      "\u001b[1;31mTypeError\u001b[0m: 'c' is an invalid keyword argument for print()"
     ]
    }
   ],
   "source": [
    "print(c=complex(x))"
   ]
  },
  {
   "cell_type": "code",
   "execution_count": 29,
   "id": "7ae864b2",
   "metadata": {},
   "outputs": [],
   "source": [
    "c=complex(x)"
   ]
  },
  {
   "cell_type": "code",
   "execution_count": 30,
   "id": "4f8ac761",
   "metadata": {},
   "outputs": [
    {
     "data": {
      "text/plain": [
       "(1+0j)"
      ]
     },
     "execution_count": 30,
     "metadata": {},
     "output_type": "execute_result"
    }
   ],
   "source": [
    "c"
   ]
  },
  {
   "cell_type": "code",
   "execution_count": 31,
   "id": "6c80fb90",
   "metadata": {},
   "outputs": [],
   "source": [
    "a = (\"anubhav\")"
   ]
  },
  {
   "cell_type": "code",
   "execution_count": 32,
   "id": "6ff321e5",
   "metadata": {},
   "outputs": [
    {
     "data": {
      "text/plain": [
       "'anubhav'"
      ]
     },
     "execution_count": 32,
     "metadata": {},
     "output_type": "execute_result"
    }
   ],
   "source": [
    "a"
   ]
  },
  {
   "cell_type": "code",
   "execution_count": 33,
   "id": "afa97e75",
   "metadata": {},
   "outputs": [],
   "source": [
    "b = 'anubhav'"
   ]
  },
  {
   "cell_type": "code",
   "execution_count": 34,
   "id": "d0c6b0a2",
   "metadata": {},
   "outputs": [
    {
     "data": {
      "text/plain": [
       "'anubhav'"
      ]
     },
     "execution_count": 34,
     "metadata": {},
     "output_type": "execute_result"
    }
   ],
   "source": [
    "b"
   ]
  },
  {
   "cell_type": "code",
   "execution_count": 10,
   "id": "96236741",
   "metadata": {},
   "outputs": [],
   "source": [
    "b = \"\"\"\"abunbxshhx  cjbcjdscbds jcbjsdcsd\n",
    "cnakndsckdsnckds ckdsnckscnds\"\"\""
   ]
  },
  {
   "cell_type": "code",
   "execution_count": 11,
   "id": "f146b8a8",
   "metadata": {},
   "outputs": [
    {
     "data": {
      "text/plain": [
       "'\"abunbxshhx  cjbcjdscbds jcbjsdcsd\\ncnakndsckdsnckds ckdsnckscnds'"
      ]
     },
     "execution_count": 11,
     "metadata": {},
     "output_type": "execute_result"
    }
   ],
   "source": [
    "b"
   ]
  },
  {
   "cell_type": "code",
   "execution_count": 37,
   "id": "54fb6ea0",
   "metadata": {},
   "outputs": [],
   "source": [
    "q = len(b)"
   ]
  },
  {
   "cell_type": "code",
   "execution_count": 38,
   "id": "2d17a0c6",
   "metadata": {},
   "outputs": [
    {
     "data": {
      "text/plain": [
       "64"
      ]
     },
     "execution_count": 38,
     "metadata": {},
     "output_type": "execute_result"
    }
   ],
   "source": [
    "q"
   ]
  },
  {
   "cell_type": "code",
   "execution_count": 41,
   "id": "f6e4896f",
   "metadata": {},
   "outputs": [
    {
     "data": {
      "text/plain": [
       "True"
      ]
     },
     "execution_count": 41,
     "metadata": {},
     "output_type": "execute_result"
    }
   ],
   "source": [
    "\"kd\" in b"
   ]
  },
  {
   "cell_type": "code",
   "execution_count": null,
   "id": "746cef49",
   "metadata": {},
   "outputs": [],
   "source": [
    "kd"
   ]
  },
  {
   "cell_type": "code",
   "execution_count": 42,
   "id": "2aeca1c3",
   "metadata": {},
   "outputs": [
    {
     "data": {
      "text/plain": [
       "'a'"
      ]
     },
     "execution_count": 42,
     "metadata": {},
     "output_type": "execute_result"
    }
   ],
   "source": [
    "b[1]"
   ]
  },
  {
   "cell_type": "code",
   "execution_count": 43,
   "id": "5505c532",
   "metadata": {},
   "outputs": [
    {
     "data": {
      "text/plain": [
       "'\"abunbxshhx  cjbcjdscbds jcbjsdcsd\\ncnakndsckdsnckds ckdsnckscnds'"
      ]
     },
     "execution_count": 43,
     "metadata": {},
     "output_type": "execute_result"
    }
   ],
   "source": [
    "b"
   ]
  },
  {
   "cell_type": "code",
   "execution_count": 12,
   "id": "9c700f55",
   "metadata": {},
   "outputs": [],
   "source": [
    "a = \"Anubhav Sharma\""
   ]
  },
  {
   "cell_type": "code",
   "execution_count": 13,
   "id": "785e1e05",
   "metadata": {},
   "outputs": [
    {
     "data": {
      "text/plain": [
       "str"
      ]
     },
     "execution_count": 13,
     "metadata": {},
     "output_type": "execute_result"
    }
   ],
   "source": [
    "type(a)"
   ]
  },
  {
   "cell_type": "code",
   "execution_count": 14,
   "id": "545f1ced",
   "metadata": {},
   "outputs": [
    {
     "data": {
      "text/plain": [
       "'n'"
      ]
     },
     "execution_count": 14,
     "metadata": {},
     "output_type": "execute_result"
    }
   ],
   "source": [
    "a[1]"
   ]
  },
  {
   "cell_type": "code",
   "execution_count": 15,
   "id": "dd543c81",
   "metadata": {},
   "outputs": [
    {
     "data": {
      "text/plain": [
       "14"
      ]
     },
     "execution_count": 15,
     "metadata": {},
     "output_type": "execute_result"
    }
   ],
   "source": [
    "len(a)"
   ]
  },
  {
   "cell_type": "code",
   "execution_count": 45,
   "id": "9e40966e",
   "metadata": {},
   "outputs": [
    {
     "data": {
      "text/plain": [
       "'Anubhav'"
      ]
     },
     "execution_count": 45,
     "metadata": {},
     "output_type": "execute_result"
    }
   ],
   "source": [
    "a[0:7]"
   ]
  },
  {
   "cell_type": "code",
   "execution_count": 46,
   "id": "33b2a0be",
   "metadata": {},
   "outputs": [
    {
     "data": {
      "text/plain": [
       "'Sharma'"
      ]
     },
     "execution_count": 46,
     "metadata": {},
     "output_type": "execute_result"
    }
   ],
   "source": [
    "a[8:14]"
   ]
  },
  {
   "cell_type": "code",
   "execution_count": 47,
   "id": "9a0e55a9",
   "metadata": {},
   "outputs": [
    {
     "data": {
      "text/plain": [
       "'Anubhav'"
      ]
     },
     "execution_count": 47,
     "metadata": {},
     "output_type": "execute_result"
    }
   ],
   "source": [
    "a[:7]"
   ]
  },
  {
   "cell_type": "code",
   "execution_count": 48,
   "id": "d7d6c65e",
   "metadata": {},
   "outputs": [
    {
     "data": {
      "text/plain": [
       "'Sharma'"
      ]
     },
     "execution_count": 48,
     "metadata": {},
     "output_type": "execute_result"
    }
   ],
   "source": [
    "a[8:]"
   ]
  },
  {
   "cell_type": "code",
   "execution_count": 26,
   "id": "716d9eb5",
   "metadata": {},
   "outputs": [
    {
     "data": {
      "text/plain": [
       "'Anubhav Sharma'"
      ]
     },
     "execution_count": 26,
     "metadata": {},
     "output_type": "execute_result"
    }
   ],
   "source": [
    "a"
   ]
  },
  {
   "cell_type": "code",
   "execution_count": 22,
   "id": "d3818d01",
   "metadata": {},
   "outputs": [
    {
     "data": {
      "text/plain": [
       "''"
      ]
     },
     "execution_count": 22,
     "metadata": {},
     "output_type": "execute_result"
    }
   ],
   "source": [
    "a[-7:0]"
   ]
  },
  {
   "cell_type": "code",
   "execution_count": 50,
   "id": "9da2bfd2",
   "metadata": {},
   "outputs": [
    {
     "data": {
      "text/plain": [
       "' Shar'"
      ]
     },
     "execution_count": 50,
     "metadata": {},
     "output_type": "execute_result"
    }
   ],
   "source": [
    "a[-7:-2]"
   ]
  },
  {
   "cell_type": "code",
   "execution_count": 25,
   "id": "fb4c09da",
   "metadata": {},
   "outputs": [
    {
     "data": {
      "text/plain": [
       "' S'"
      ]
     },
     "execution_count": 25,
     "metadata": {},
     "output_type": "execute_result"
    }
   ],
   "source": [
    "a[-7:-5]"
   ]
  },
  {
   "cell_type": "code",
   "execution_count": 27,
   "id": "f4bcd326",
   "metadata": {},
   "outputs": [],
   "source": [
    "b = a.upper()"
   ]
  },
  {
   "cell_type": "code",
   "execution_count": 28,
   "id": "e1a50955",
   "metadata": {},
   "outputs": [
    {
     "data": {
      "text/plain": [
       "'ANUBHAV SHARMA'"
      ]
     },
     "execution_count": 28,
     "metadata": {},
     "output_type": "execute_result"
    }
   ],
   "source": [
    "b"
   ]
  },
  {
   "cell_type": "code",
   "execution_count": 29,
   "id": "fbb75477",
   "metadata": {},
   "outputs": [],
   "source": [
    "c=a.lower()"
   ]
  },
  {
   "cell_type": "code",
   "execution_count": 33,
   "id": "356f0b6d",
   "metadata": {},
   "outputs": [],
   "source": [
    "d=a.capitalize()"
   ]
  },
  {
   "cell_type": "code",
   "execution_count": 34,
   "id": "073f41b3",
   "metadata": {},
   "outputs": [
    {
     "data": {
      "text/plain": [
       "'Anubhav sharma'"
      ]
     },
     "execution_count": 34,
     "metadata": {},
     "output_type": "execute_result"
    }
   ],
   "source": [
    "d"
   ]
  },
  {
   "cell_type": "code",
   "execution_count": 30,
   "id": "69395f30",
   "metadata": {},
   "outputs": [
    {
     "data": {
      "text/plain": [
       "'anubhav sharma'"
      ]
     },
     "execution_count": 30,
     "metadata": {},
     "output_type": "execute_result"
    }
   ],
   "source": [
    "c"
   ]
  },
  {
   "cell_type": "code",
   "execution_count": 55,
   "id": "15e51358",
   "metadata": {},
   "outputs": [],
   "source": [
    "x=\"  anubhav  \""
   ]
  },
  {
   "cell_type": "code",
   "execution_count": 35,
   "id": "fe9836a8",
   "metadata": {},
   "outputs": [],
   "source": [
    "x1=\"  anubhav  dfrvtgv   \""
   ]
  },
  {
   "cell_type": "code",
   "execution_count": 36,
   "id": "5e3ad9e8",
   "metadata": {},
   "outputs": [],
   "source": [
    "y1=x1.strip()"
   ]
  },
  {
   "cell_type": "code",
   "execution_count": 37,
   "id": "88c37f60",
   "metadata": {},
   "outputs": [
    {
     "data": {
      "text/plain": [
       "'anubhav  dfrvtgv'"
      ]
     },
     "execution_count": 37,
     "metadata": {},
     "output_type": "execute_result"
    }
   ],
   "source": [
    "y1"
   ]
  },
  {
   "cell_type": "code",
   "execution_count": 56,
   "id": "97c3c9e1",
   "metadata": {},
   "outputs": [],
   "source": [
    "y=x.strip()"
   ]
  },
  {
   "cell_type": "code",
   "execution_count": 57,
   "id": "8698cb75",
   "metadata": {},
   "outputs": [
    {
     "data": {
      "text/plain": [
       "'anubhav'"
      ]
     },
     "execution_count": 57,
     "metadata": {},
     "output_type": "execute_result"
    }
   ],
   "source": [
    "y"
   ]
  },
  {
   "cell_type": "code",
   "execution_count": 58,
   "id": "735979c6",
   "metadata": {},
   "outputs": [
    {
     "data": {
      "text/plain": [
       "'  anubhav  '"
      ]
     },
     "execution_count": 58,
     "metadata": {},
     "output_type": "execute_result"
    }
   ],
   "source": [
    "x"
   ]
  },
  {
   "cell_type": "code",
   "execution_count": 3,
   "id": "0babd697",
   "metadata": {},
   "outputs": [
    {
     "name": "stdout",
     "output_type": "stream",
     "text": [
      "Enter your Name hereAnubhav\n",
      "Hello Anubhav\n"
     ]
    }
   ],
   "source": [
    "personName=input(\"Enter your Name here\")\n",
    "if(personName==\"Anubhav\"):\n",
    "    print(\"Hello Anubhav\")\n",
    "if(personName==\"Vishal\"):\n",
    "    print(\"Hello Vishal\")"
   ]
  },
  {
   "cell_type": "code",
   "execution_count": null,
   "id": "76877eba",
   "metadata": {},
   "outputs": [],
   "source": []
  }
 ],
 "metadata": {
  "kernelspec": {
   "display_name": "Python 3 (ipykernel)",
   "language": "python",
   "name": "python3"
  },
  "language_info": {
   "codemirror_mode": {
    "name": "ipython",
    "version": 3
   },
   "file_extension": ".py",
   "mimetype": "text/x-python",
   "name": "python",
   "nbconvert_exporter": "python",
   "pygments_lexer": "ipython3",
   "version": "3.9.12"
  }
 },
 "nbformat": 4,
 "nbformat_minor": 5
}
