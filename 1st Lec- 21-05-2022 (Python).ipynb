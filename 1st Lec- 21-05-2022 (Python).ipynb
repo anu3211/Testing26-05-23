{
 "cells": [
  {
   "cell_type": "code",
   "execution_count": 1,
   "id": "71f55f2d",
   "metadata": {},
   "outputs": [
    {
     "name": "stdout",
     "output_type": "stream",
     "text": [
      "Hello today is the first day\n"
     ]
    }
   ],
   "source": [
    "print('Hello today is the first day')"
   ]
  },
  {
   "cell_type": "code",
   "execution_count": 2,
   "id": "8c87e013",
   "metadata": {},
   "outputs": [
    {
     "name": "stdout",
     "output_type": "stream",
     "text": [
      "We can use double inverted for print too\n"
     ]
    }
   ],
   "source": [
    "print(\"We can use double inverted for print too\")"
   ]
  },
  {
   "cell_type": "code",
   "execution_count": 1,
   "id": "9a7832a1",
   "metadata": {},
   "outputs": [
    {
     "name": "stdout",
     "output_type": "stream",
     "text": [
      "hello this is the first class\n"
     ]
    }
   ],
   "source": [
    "print(\"hello this is the first class\")"
   ]
  },
  {
   "cell_type": "code",
   "execution_count": null,
   "id": "e62c2fe8",
   "metadata": {},
   "outputs": [],
   "source": []
  }
 ],
 "metadata": {
  "kernelspec": {
   "display_name": "Python 3 (ipykernel)",
   "language": "python",
   "name": "python3"
  },
  "language_info": {
   "codemirror_mode": {
    "name": "ipython",
    "version": 3
   },
   "file_extension": ".py",
   "mimetype": "text/x-python",
   "name": "python",
   "nbconvert_exporter": "python",
   "pygments_lexer": "ipython3",
   "version": "3.9.12"
  }
 },
 "nbformat": 4,
 "nbformat_minor": 5
}
