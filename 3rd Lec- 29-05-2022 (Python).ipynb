{
 "cells": [
  {
   "cell_type": "code",
   "execution_count": 1,
   "id": "1f0f174b",
   "metadata": {},
   "outputs": [],
   "source": [
    "dct={'name':'anubhav', 'place':'noida', 'designation':'SeniorAssistantEngineer', 'Profile':'R&D'}"
   ]
  },
  {
   "cell_type": "code",
   "execution_count": 2,
   "id": "976fd9a9",
   "metadata": {},
   "outputs": [
    {
     "data": {
      "text/plain": [
       "{'name': 'anubhav',\n",
       " 'place': 'noida',\n",
       " 'designation': 'SeniorAssistantEngineer',\n",
       " 'Profile': 'R&D'}"
      ]
     },
     "execution_count": 2,
     "metadata": {},
     "output_type": "execute_result"
    }
   ],
   "source": [
    "dct"
   ]
  },
  {
   "cell_type": "code",
   "execution_count": 3,
   "id": "bca23b67",
   "metadata": {},
   "outputs": [
    {
     "data": {
      "text/plain": [
       "dict"
      ]
     },
     "execution_count": 3,
     "metadata": {},
     "output_type": "execute_result"
    }
   ],
   "source": [
    "type(dct)"
   ]
  },
  {
   "cell_type": "code",
   "execution_count": 9,
   "id": "b01d8ff1",
   "metadata": {},
   "outputs": [
    {
     "data": {
      "text/plain": [
       "'anubhav'"
      ]
     },
     "execution_count": 9,
     "metadata": {},
     "output_type": "execute_result"
    }
   ],
   "source": [
    "dct[\"name\"]"
   ]
  },
  {
   "cell_type": "code",
   "execution_count": 10,
   "id": "851d3576",
   "metadata": {},
   "outputs": [
    {
     "data": {
      "text/plain": [
       "'anubhav'"
      ]
     },
     "execution_count": 10,
     "metadata": {},
     "output_type": "execute_result"
    }
   ],
   "source": [
    "dct['name']"
   ]
  },
  {
   "cell_type": "code",
   "execution_count": 11,
   "id": "fdde44f2",
   "metadata": {},
   "outputs": [],
   "source": [
    "dct['Profile']=\"software developer\""
   ]
  },
  {
   "cell_type": "code",
   "execution_count": 12,
   "id": "051db7be",
   "metadata": {},
   "outputs": [
    {
     "data": {
      "text/plain": [
       "{'name': 'anubhav',\n",
       " 'place': 'noida',\n",
       " 'designation': 'SeniorAssistantEngineer',\n",
       " 'Profile': 'software developer'}"
      ]
     },
     "execution_count": 12,
     "metadata": {},
     "output_type": "execute_result"
    }
   ],
   "source": [
    "dct"
   ]
  },
  {
   "cell_type": "code",
   "execution_count": null,
   "id": "028246cf",
   "metadata": {},
   "outputs": [],
   "source": []
  },
  {
   "cell_type": "code",
   "execution_count": null,
   "id": "11f7e44a",
   "metadata": {},
   "outputs": [],
   "source": [
    "#Replace Function"
   ]
  },
  {
   "cell_type": "code",
   "execution_count": 4,
   "id": "cd3f57ec",
   "metadata": {},
   "outputs": [],
   "source": [
    "a = \"Hello World!\""
   ]
  },
  {
   "cell_type": "code",
   "execution_count": 5,
   "id": "4e659a74",
   "metadata": {},
   "outputs": [
    {
     "data": {
      "text/plain": [
       "'hello World!'"
      ]
     },
     "execution_count": 5,
     "metadata": {},
     "output_type": "execute_result"
    }
   ],
   "source": [
    "a.replace(\"H\",\"h\")     #temporary change"
   ]
  },
  {
   "cell_type": "code",
   "execution_count": 6,
   "id": "70c3f6d6",
   "metadata": {},
   "outputs": [
    {
     "data": {
      "text/plain": [
       "'Hello World!'"
      ]
     },
     "execution_count": 6,
     "metadata": {},
     "output_type": "execute_result"
    }
   ],
   "source": [
    "a"
   ]
  },
  {
   "cell_type": "code",
   "execution_count": 4,
   "id": "534f9239",
   "metadata": {},
   "outputs": [],
   "source": [
    "a=a.replace(\"H\",\"h\")     #permanent change"
   ]
  },
  {
   "cell_type": "code",
   "execution_count": 5,
   "id": "29b97fa7",
   "metadata": {},
   "outputs": [
    {
     "data": {
      "text/plain": [
       "'hello World!'"
      ]
     },
     "execution_count": 5,
     "metadata": {},
     "output_type": "execute_result"
    }
   ],
   "source": [
    "a"
   ]
  },
  {
   "cell_type": "code",
   "execution_count": 6,
   "id": "64479f9c",
   "metadata": {},
   "outputs": [],
   "source": [
    "a=a.replace(\"World\",\"Everyone\")"
   ]
  },
  {
   "cell_type": "code",
   "execution_count": 7,
   "id": "b4f482f6",
   "metadata": {},
   "outputs": [
    {
     "data": {
      "text/plain": [
       "'hello Everyone!'"
      ]
     },
     "execution_count": 7,
     "metadata": {},
     "output_type": "execute_result"
    }
   ],
   "source": [
    "a"
   ]
  },
  {
   "cell_type": "code",
   "execution_count": 8,
   "id": "037f8159",
   "metadata": {},
   "outputs": [
    {
     "data": {
      "text/plain": [
       "'hi Everyone!'"
      ]
     },
     "execution_count": 8,
     "metadata": {},
     "output_type": "execute_result"
    }
   ],
   "source": [
    "a.replace(\"hello\",\"hi\")"
   ]
  },
  {
   "cell_type": "code",
   "execution_count": 9,
   "id": "66a0dcdd",
   "metadata": {},
   "outputs": [
    {
     "data": {
      "text/plain": [
       "'hello Everyone!'"
      ]
     },
     "execution_count": 9,
     "metadata": {},
     "output_type": "execute_result"
    }
   ],
   "source": [
    "a"
   ]
  },
  {
   "cell_type": "code",
   "execution_count": 10,
   "id": "bbc41f94",
   "metadata": {},
   "outputs": [
    {
     "data": {
      "text/plain": [
       "'ifllo Everyone!'"
      ]
     },
     "execution_count": 10,
     "metadata": {},
     "output_type": "execute_result"
    }
   ],
   "source": [
    "a.replace(\"he\",\"if\")"
   ]
  },
  {
   "cell_type": "code",
   "execution_count": 11,
   "id": "b61cb018",
   "metadata": {},
   "outputs": [
    {
     "data": {
      "text/plain": [
       "'hello Everyone!'"
      ]
     },
     "execution_count": 11,
     "metadata": {},
     "output_type": "execute_result"
    }
   ],
   "source": [
    "a"
   ]
  },
  {
   "cell_type": "code",
   "execution_count": null,
   "id": "340dd2a7",
   "metadata": {},
   "outputs": [],
   "source": []
  },
  {
   "cell_type": "code",
   "execution_count": 12,
   "id": "a1e10fc7",
   "metadata": {},
   "outputs": [],
   "source": [
    "#Split string"
   ]
  },
  {
   "cell_type": "code",
   "execution_count": 13,
   "id": "e3397329",
   "metadata": {},
   "outputs": [
    {
     "data": {
      "text/plain": [
       "'hello Everyone!'"
      ]
     },
     "execution_count": 13,
     "metadata": {},
     "output_type": "execute_result"
    }
   ],
   "source": [
    "a"
   ]
  },
  {
   "cell_type": "code",
   "execution_count": 7,
   "id": "9a0b9c84",
   "metadata": {},
   "outputs": [],
   "source": [
    "a=\"hello, my name is anubhav, i am from meeerut\""
   ]
  },
  {
   "cell_type": "code",
   "execution_count": 8,
   "id": "62718c7e",
   "metadata": {},
   "outputs": [
    {
     "data": {
      "text/plain": [
       "'hello, my name is anubhav, i am from meeerut'"
      ]
     },
     "execution_count": 8,
     "metadata": {},
     "output_type": "execute_result"
    }
   ],
   "source": [
    "a"
   ]
  },
  {
   "cell_type": "code",
   "execution_count": 9,
   "id": "c5246003",
   "metadata": {},
   "outputs": [
    {
     "data": {
      "text/plain": [
       "['hello', ' my name is anubhav', ' i am from meeerut']"
      ]
     },
     "execution_count": 9,
     "metadata": {},
     "output_type": "execute_result"
    }
   ],
   "source": [
    "a.split(\",\")"
   ]
  },
  {
   "cell_type": "code",
   "execution_count": 10,
   "id": "f84616fe",
   "metadata": {},
   "outputs": [
    {
     "data": {
      "text/plain": [
       "'hello, my name is anubhav, i am from meeerut'"
      ]
     },
     "execution_count": 10,
     "metadata": {},
     "output_type": "execute_result"
    }
   ],
   "source": [
    "a"
   ]
  },
  {
   "cell_type": "code",
   "execution_count": 11,
   "id": "b9932b00",
   "metadata": {},
   "outputs": [],
   "source": [
    "c = a.split(\",\")"
   ]
  },
  {
   "cell_type": "code",
   "execution_count": 12,
   "id": "bffc51b0",
   "metadata": {},
   "outputs": [
    {
     "data": {
      "text/plain": [
       "['hello', ' my name is anubhav', ' i am from meeerut']"
      ]
     },
     "execution_count": 12,
     "metadata": {},
     "output_type": "execute_result"
    }
   ],
   "source": [
    "c"
   ]
  },
  {
   "cell_type": "code",
   "execution_count": 13,
   "id": "f00ba313",
   "metadata": {},
   "outputs": [
    {
     "data": {
      "text/plain": [
       "list"
      ]
     },
     "execution_count": 13,
     "metadata": {},
     "output_type": "execute_result"
    }
   ],
   "source": [
    "type(c)"
   ]
  },
  {
   "cell_type": "code",
   "execution_count": 14,
   "id": "4db6b565",
   "metadata": {},
   "outputs": [
    {
     "data": {
      "text/plain": [
       "' my name is anubhav'"
      ]
     },
     "execution_count": 14,
     "metadata": {},
     "output_type": "execute_result"
    }
   ],
   "source": [
    "c[1]"
   ]
  },
  {
   "cell_type": "code",
   "execution_count": 15,
   "id": "019d40d1",
   "metadata": {},
   "outputs": [
    {
     "data": {
      "text/plain": [
       "'my name is anubhav'"
      ]
     },
     "execution_count": 15,
     "metadata": {},
     "output_type": "execute_result"
    }
   ],
   "source": [
    "c[1].strip()"
   ]
  },
  {
   "cell_type": "code",
   "execution_count": null,
   "id": "76ac96ef",
   "metadata": {},
   "outputs": [],
   "source": []
  },
  {
   "cell_type": "code",
   "execution_count": null,
   "id": "f5e27802",
   "metadata": {},
   "outputs": [],
   "source": []
  },
  {
   "cell_type": "code",
   "execution_count": 18,
   "id": "badbc2e1",
   "metadata": {},
   "outputs": [
    {
     "data": {
      "text/plain": [
       "['hello, ', 'y na', 'e is anubhav, i a', ' fro', ' ', 'eeerut']"
      ]
     },
     "execution_count": 18,
     "metadata": {},
     "output_type": "execute_result"
    }
   ],
   "source": [
    "a.split(\"m\")"
   ]
  },
  {
   "cell_type": "code",
   "execution_count": 19,
   "id": "07aa0116",
   "metadata": {},
   "outputs": [
    {
     "data": {
      "text/plain": [
       "['hello,', 'my', 'name', 'is', 'anubhav,', 'i', 'am', 'from', 'meeerut']"
      ]
     },
     "execution_count": 19,
     "metadata": {},
     "output_type": "execute_result"
    }
   ],
   "source": [
    "a.split(\" \")"
   ]
  },
  {
   "cell_type": "code",
   "execution_count": null,
   "id": "5d8f32ab",
   "metadata": {},
   "outputs": [],
   "source": []
  },
  {
   "cell_type": "code",
   "execution_count": 43,
   "id": "1858e9fb",
   "metadata": {},
   "outputs": [],
   "source": [
    "#Lists\n",
    "#if we have similar type or multiple type of data it will store it\n",
    "#Lists elements are ordered\n",
    "#Lists elements are changable\n",
    "#Lists allowes duplicate values"
   ]
  },
  {
   "cell_type": "code",
   "execution_count": 21,
   "id": "59c0d343",
   "metadata": {},
   "outputs": [],
   "source": [
    "#List[]"
   ]
  },
  {
   "cell_type": "code",
   "execution_count": 16,
   "id": "7c0b7347",
   "metadata": {},
   "outputs": [],
   "source": [
    "studentnames = [\"ajay\",\"vikas\",\"komal\",\"nilesh\"]"
   ]
  },
  {
   "cell_type": "code",
   "execution_count": 17,
   "id": "c547b2bc",
   "metadata": {},
   "outputs": [
    {
     "data": {
      "text/plain": [
       "['ajay', 'vikas', 'komal', 'nilesh']"
      ]
     },
     "execution_count": 17,
     "metadata": {},
     "output_type": "execute_result"
    }
   ],
   "source": [
    "studentnames"
   ]
  },
  {
   "cell_type": "code",
   "execution_count": 18,
   "id": "004b21b2",
   "metadata": {},
   "outputs": [
    {
     "data": {
      "text/plain": [
       "list"
      ]
     },
     "execution_count": 18,
     "metadata": {},
     "output_type": "execute_result"
    }
   ],
   "source": [
    "type(studentnames)"
   ]
  },
  {
   "cell_type": "code",
   "execution_count": 24,
   "id": "30ad4a7b",
   "metadata": {},
   "outputs": [
    {
     "data": {
      "text/plain": [
       "'vikas'"
      ]
     },
     "execution_count": 24,
     "metadata": {},
     "output_type": "execute_result"
    }
   ],
   "source": [
    "studentnames[1]"
   ]
  },
  {
   "cell_type": "code",
   "execution_count": 8,
   "id": "5ee6df2d",
   "metadata": {},
   "outputs": [],
   "source": [
    "studentinfo = [\"nilesh\",\"pune\",89.9,1234]"
   ]
  },
  {
   "cell_type": "code",
   "execution_count": 20,
   "id": "64d81eb1",
   "metadata": {},
   "outputs": [
    {
     "data": {
      "text/plain": [
       "['nilesh', 'pune', 89.9, 1234]"
      ]
     },
     "execution_count": 20,
     "metadata": {},
     "output_type": "execute_result"
    }
   ],
   "source": [
    "studentinfo"
   ]
  },
  {
   "cell_type": "code",
   "execution_count": 21,
   "id": "e3d1659b",
   "metadata": {},
   "outputs": [
    {
     "data": {
      "text/plain": [
       "1"
      ]
     },
     "execution_count": 21,
     "metadata": {},
     "output_type": "execute_result"
    }
   ],
   "source": [
    "studentinfo.index(\"pune\")\n"
   ]
  },
  {
   "cell_type": "code",
   "execution_count": 26,
   "id": "f6577060",
   "metadata": {},
   "outputs": [
    {
     "data": {
      "text/plain": [
       "'pune'"
      ]
     },
     "execution_count": 26,
     "metadata": {},
     "output_type": "execute_result"
    }
   ],
   "source": [
    "studentinfo[1]"
   ]
  },
  {
   "cell_type": "code",
   "execution_count": 27,
   "id": "5daf6969",
   "metadata": {},
   "outputs": [],
   "source": [
    "studentinfo.append(\"Tanya\")"
   ]
  },
  {
   "cell_type": "code",
   "execution_count": 28,
   "id": "1370c4a3",
   "metadata": {},
   "outputs": [
    {
     "data": {
      "text/plain": [
       "['nilesh', 'pune', 89.9, 1234, 'Tanya']"
      ]
     },
     "execution_count": 28,
     "metadata": {},
     "output_type": "execute_result"
    }
   ],
   "source": [
    "studentinfo"
   ]
  },
  {
   "cell_type": "code",
   "execution_count": 9,
   "id": "f480cbb6",
   "metadata": {},
   "outputs": [
    {
     "data": {
      "text/plain": [
       "['pune', 89.9]"
      ]
     },
     "execution_count": 9,
     "metadata": {},
     "output_type": "execute_result"
    }
   ],
   "source": [
    "studentinfo[1:3]"
   ]
  },
  {
   "cell_type": "code",
   "execution_count": null,
   "id": "b268fe15",
   "metadata": {},
   "outputs": [],
   "source": []
  },
  {
   "cell_type": "code",
   "execution_count": 32,
   "id": "e575cd4d",
   "metadata": {},
   "outputs": [],
   "source": [
    "a=[11,22,33,44,55]    #ordered example"
   ]
  },
  {
   "cell_type": "code",
   "execution_count": 33,
   "id": "da157c12",
   "metadata": {},
   "outputs": [
    {
     "data": {
      "text/plain": [
       "[11, 22, 33, 44, 55]"
      ]
     },
     "execution_count": 33,
     "metadata": {},
     "output_type": "execute_result"
    }
   ],
   "source": [
    "a"
   ]
  },
  {
   "cell_type": "code",
   "execution_count": 34,
   "id": "300b1b7b",
   "metadata": {},
   "outputs": [],
   "source": [
    "a=[12.90,897,True,\"hi\"]  #changable example"
   ]
  },
  {
   "cell_type": "code",
   "execution_count": 35,
   "id": "936a7eaf",
   "metadata": {},
   "outputs": [
    {
     "data": {
      "text/plain": [
       "[12.9, 897, True, 'hi']"
      ]
     },
     "execution_count": 35,
     "metadata": {},
     "output_type": "execute_result"
    }
   ],
   "source": [
    "a"
   ]
  },
  {
   "cell_type": "code",
   "execution_count": 36,
   "id": "02016399",
   "metadata": {},
   "outputs": [],
   "source": [
    "a[1]=567"
   ]
  },
  {
   "cell_type": "code",
   "execution_count": 37,
   "id": "f1543fd3",
   "metadata": {},
   "outputs": [
    {
     "data": {
      "text/plain": [
       "[12.9, 567, True, 'hi']"
      ]
     },
     "execution_count": 37,
     "metadata": {},
     "output_type": "execute_result"
    }
   ],
   "source": [
    "a"
   ]
  },
  {
   "cell_type": "code",
   "execution_count": 38,
   "id": "851d3539",
   "metadata": {},
   "outputs": [],
   "source": [
    "a[3]=\"bye\""
   ]
  },
  {
   "cell_type": "code",
   "execution_count": 39,
   "id": "1c182c6e",
   "metadata": {},
   "outputs": [
    {
     "data": {
      "text/plain": [
       "[12.9, 567, True, 'bye']"
      ]
     },
     "execution_count": 39,
     "metadata": {},
     "output_type": "execute_result"
    }
   ],
   "source": [
    "a"
   ]
  },
  {
   "cell_type": "code",
   "execution_count": 40,
   "id": "2964d752",
   "metadata": {},
   "outputs": [],
   "source": [
    "a[2]=False"
   ]
  },
  {
   "cell_type": "code",
   "execution_count": 41,
   "id": "77dfae3f",
   "metadata": {},
   "outputs": [
    {
     "data": {
      "text/plain": [
       "[12.9, 567, False, 'bye']"
      ]
     },
     "execution_count": 41,
     "metadata": {},
     "output_type": "execute_result"
    }
   ],
   "source": [
    "a"
   ]
  },
  {
   "cell_type": "code",
   "execution_count": 42,
   "id": "70836824",
   "metadata": {},
   "outputs": [
    {
     "data": {
      "text/plain": [
       "list"
      ]
     },
     "execution_count": 42,
     "metadata": {},
     "output_type": "execute_result"
    }
   ],
   "source": [
    "type(a)"
   ]
  },
  {
   "cell_type": "code",
   "execution_count": 44,
   "id": "1ac05605",
   "metadata": {},
   "outputs": [],
   "source": [
    "a=[11,11,11,11,11,22,22,22]    #Duplicates allowed example"
   ]
  },
  {
   "cell_type": "code",
   "execution_count": 45,
   "id": "f74b79fb",
   "metadata": {},
   "outputs": [
    {
     "data": {
      "text/plain": [
       "[11, 11, 11, 11, 11, 22, 22, 22]"
      ]
     },
     "execution_count": 45,
     "metadata": {},
     "output_type": "execute_result"
    }
   ],
   "source": [
    "a"
   ]
  },
  {
   "cell_type": "code",
   "execution_count": 46,
   "id": "e3d8e8c0",
   "metadata": {},
   "outputs": [
    {
     "data": {
      "text/plain": [
       "8"
      ]
     },
     "execution_count": 46,
     "metadata": {},
     "output_type": "execute_result"
    }
   ],
   "source": [
    "len(a)       #length of list using len method"
   ]
  },
  {
   "cell_type": "code",
   "execution_count": 47,
   "id": "b02d0e96",
   "metadata": {},
   "outputs": [
    {
     "data": {
      "text/plain": [
       "int"
      ]
     },
     "execution_count": 47,
     "metadata": {},
     "output_type": "execute_result"
    }
   ],
   "source": [
    "type(a[2])"
   ]
  },
  {
   "cell_type": "code",
   "execution_count": 29,
   "id": "c70f8493",
   "metadata": {},
   "outputs": [],
   "source": [
    "sgh = []"
   ]
  },
  {
   "cell_type": "code",
   "execution_count": 30,
   "id": "1b7a05fe",
   "metadata": {},
   "outputs": [
    {
     "data": {
      "text/plain": [
       "list"
      ]
     },
     "execution_count": 30,
     "metadata": {},
     "output_type": "execute_result"
    }
   ],
   "source": [
    "type(sgh)"
   ]
  },
  {
   "cell_type": "code",
   "execution_count": 31,
   "id": "310984bf",
   "metadata": {},
   "outputs": [],
   "source": [
    "dfg=()"
   ]
  },
  {
   "cell_type": "code",
   "execution_count": 32,
   "id": "45c84a86",
   "metadata": {},
   "outputs": [
    {
     "data": {
      "text/plain": [
       "tuple"
      ]
     },
     "execution_count": 32,
     "metadata": {},
     "output_type": "execute_result"
    }
   ],
   "source": [
    "type(dfg)"
   ]
  },
  {
   "cell_type": "code",
   "execution_count": 61,
   "id": "70632c64",
   "metadata": {},
   "outputs": [],
   "source": [
    "#Tuples\n",
    "#It uses round brackets ()\n",
    "# Tuple elements are odered\n",
    "# Tuple allowes duplicates\n",
    "#Data stored initially cannot be changed it is unchangable"
   ]
  },
  {
   "cell_type": "code",
   "execution_count": 49,
   "id": "0fad958a",
   "metadata": {},
   "outputs": [],
   "source": [
    "b=(\"Hello\",\"MY\",\"NAME\",\"IS\",\"ANUBHAV\")"
   ]
  },
  {
   "cell_type": "code",
   "execution_count": 50,
   "id": "f73cca15",
   "metadata": {},
   "outputs": [
    {
     "data": {
      "text/plain": [
       "tuple"
      ]
     },
     "execution_count": 50,
     "metadata": {},
     "output_type": "execute_result"
    }
   ],
   "source": [
    "type(b)"
   ]
  },
  {
   "cell_type": "code",
   "execution_count": 51,
   "id": "11aadf10",
   "metadata": {},
   "outputs": [
    {
     "data": {
      "text/plain": [
       "('Hello', 'MY', 'NAME', 'IS', 'ANUBHAV')"
      ]
     },
     "execution_count": 51,
     "metadata": {},
     "output_type": "execute_result"
    }
   ],
   "source": [
    "b      #ordered example"
   ]
  },
  {
   "cell_type": "code",
   "execution_count": 52,
   "id": "47aa4606",
   "metadata": {},
   "outputs": [],
   "source": [
    "a=(1,1,1,1,2,2,2,2,3,3,3,3)     #allowes duplicates"
   ]
  },
  {
   "cell_type": "code",
   "execution_count": 53,
   "id": "bdb398a0",
   "metadata": {},
   "outputs": [
    {
     "data": {
      "text/plain": [
       "(1, 1, 1, 1, 2, 2, 2, 2, 3, 3, 3, 3)"
      ]
     },
     "execution_count": 53,
     "metadata": {},
     "output_type": "execute_result"
    }
   ],
   "source": [
    "a"
   ]
  },
  {
   "cell_type": "code",
   "execution_count": 54,
   "id": "5dba421f",
   "metadata": {},
   "outputs": [],
   "source": [
    "b=(\"Hello\",\"MY\",\"NAME\",\"IS\",\"ANUBHAV\")"
   ]
  },
  {
   "cell_type": "code",
   "execution_count": 55,
   "id": "dad95f5d",
   "metadata": {},
   "outputs": [
    {
     "data": {
      "text/plain": [
       "'ANUBHAV'"
      ]
     },
     "execution_count": 55,
     "metadata": {},
     "output_type": "execute_result"
    }
   ],
   "source": [
    "b[4]"
   ]
  },
  {
   "cell_type": "code",
   "execution_count": 56,
   "id": "2a70243a",
   "metadata": {},
   "outputs": [
    {
     "ename": "TypeError",
     "evalue": "'tuple' object does not support item assignment",
     "output_type": "error",
     "traceback": [
      "\u001b[1;31m---------------------------------------------------------------------------\u001b[0m",
      "\u001b[1;31mTypeError\u001b[0m                                 Traceback (most recent call last)",
      "Input \u001b[1;32mIn [56]\u001b[0m, in \u001b[0;36m<cell line: 1>\u001b[1;34m()\u001b[0m\n\u001b[1;32m----> 1\u001b[0m b[\u001b[38;5;241m4\u001b[39m]\u001b[38;5;241m=\u001b[39m\u001b[38;5;124m\"\u001b[39m\u001b[38;5;124msharma\u001b[39m\u001b[38;5;124m\"\u001b[39m\n",
      "\u001b[1;31mTypeError\u001b[0m: 'tuple' object does not support item assignment"
     ]
    }
   ],
   "source": [
    "b[4]=\"sharma\"    #tuple is unchangable"
   ]
  },
  {
   "cell_type": "code",
   "execution_count": 57,
   "id": "5e466a33",
   "metadata": {},
   "outputs": [],
   "source": [
    "c=list(b)"
   ]
  },
  {
   "cell_type": "code",
   "execution_count": 58,
   "id": "0f32badb",
   "metadata": {},
   "outputs": [
    {
     "data": {
      "text/plain": [
       "('Hello', 'MY', 'NAME', 'IS', 'ANUBHAV')"
      ]
     },
     "execution_count": 58,
     "metadata": {},
     "output_type": "execute_result"
    }
   ],
   "source": [
    "b"
   ]
  },
  {
   "cell_type": "code",
   "execution_count": 59,
   "id": "308811fc",
   "metadata": {},
   "outputs": [
    {
     "data": {
      "text/plain": [
       "tuple"
      ]
     },
     "execution_count": 59,
     "metadata": {},
     "output_type": "execute_result"
    }
   ],
   "source": [
    "type(b)"
   ]
  },
  {
   "cell_type": "code",
   "execution_count": 60,
   "id": "b46c06f8",
   "metadata": {},
   "outputs": [
    {
     "data": {
      "text/plain": [
       "list"
      ]
     },
     "execution_count": 60,
     "metadata": {},
     "output_type": "execute_result"
    }
   ],
   "source": [
    "type(c)"
   ]
  },
  {
   "cell_type": "code",
   "execution_count": 62,
   "id": "205811a6",
   "metadata": {},
   "outputs": [
    {
     "data": {
      "text/plain": [
       "5"
      ]
     },
     "execution_count": 62,
     "metadata": {},
     "output_type": "execute_result"
    }
   ],
   "source": [
    "len(b)"
   ]
  },
  {
   "cell_type": "code",
   "execution_count": 63,
   "id": "b8e0b4ec",
   "metadata": {},
   "outputs": [],
   "source": [
    "zzz=(\"ajay\")"
   ]
  },
  {
   "cell_type": "code",
   "execution_count": 64,
   "id": "261e29d4",
   "metadata": {},
   "outputs": [
    {
     "data": {
      "text/plain": [
       "str"
      ]
     },
     "execution_count": 64,
     "metadata": {},
     "output_type": "execute_result"
    }
   ],
   "source": [
    "type(zzz)"
   ]
  },
  {
   "cell_type": "code",
   "execution_count": 67,
   "id": "be40129f",
   "metadata": {},
   "outputs": [],
   "source": [
    "yyy=(\"ajay\",)   #if storing only one value need to add a comma after the elemet added"
   ]
  },
  {
   "cell_type": "code",
   "execution_count": 66,
   "id": "20b5c3a9",
   "metadata": {},
   "outputs": [
    {
     "data": {
      "text/plain": [
       "tuple"
      ]
     },
     "execution_count": 66,
     "metadata": {},
     "output_type": "execute_result"
    }
   ],
   "source": [
    "type(yyy)"
   ]
  },
  {
   "cell_type": "code",
   "execution_count": 68,
   "id": "1e608295",
   "metadata": {},
   "outputs": [],
   "source": [
    "studentdata=(\"hello\",1234,12.9,True)"
   ]
  },
  {
   "cell_type": "code",
   "execution_count": 69,
   "id": "72b8ce7f",
   "metadata": {},
   "outputs": [
    {
     "data": {
      "text/plain": [
       "('hello', 1234, 12.9, True)"
      ]
     },
     "execution_count": 69,
     "metadata": {},
     "output_type": "execute_result"
    }
   ],
   "source": [
    "studentdata    #tupple stores data of different data types"
   ]
  },
  {
   "cell_type": "code",
   "execution_count": null,
   "id": "1ed2d593",
   "metadata": {},
   "outputs": [],
   "source": []
  },
  {
   "cell_type": "code",
   "execution_count": 1,
   "id": "f284fbd3",
   "metadata": {},
   "outputs": [],
   "source": [
    "#List Recap"
   ]
  },
  {
   "cell_type": "code",
   "execution_count": 2,
   "id": "d525cfdf",
   "metadata": {},
   "outputs": [],
   "source": [
    "lst1 = [\"ajay\",\"sharma\",\"hello\",\"bye\"]"
   ]
  },
  {
   "cell_type": "code",
   "execution_count": 3,
   "id": "faa37ca2",
   "metadata": {},
   "outputs": [],
   "source": [
    "lst2 = [\"ajay\",\"sharma\",\"bye\",\"hello\"]"
   ]
  },
  {
   "cell_type": "code",
   "execution_count": 4,
   "id": "96aea59f",
   "metadata": {},
   "outputs": [
    {
     "data": {
      "text/plain": [
       "['ajay', 'sharma', 'hello', 'bye']"
      ]
     },
     "execution_count": 4,
     "metadata": {},
     "output_type": "execute_result"
    }
   ],
   "source": [
    "lst1"
   ]
  },
  {
   "cell_type": "code",
   "execution_count": 5,
   "id": "e9d2f8bb",
   "metadata": {},
   "outputs": [
    {
     "data": {
      "text/plain": [
       "['ajay', 'sharma', 'bye', 'hello']"
      ]
     },
     "execution_count": 5,
     "metadata": {},
     "output_type": "execute_result"
    }
   ],
   "source": [
    "lst2"
   ]
  },
  {
   "cell_type": "code",
   "execution_count": 6,
   "id": "9e26afa1",
   "metadata": {},
   "outputs": [
    {
     "data": {
      "text/plain": [
       "False"
      ]
     },
     "execution_count": 6,
     "metadata": {},
     "output_type": "execute_result"
    }
   ],
   "source": [
    "lst1 == lst2"
   ]
  },
  {
   "cell_type": "code",
   "execution_count": 7,
   "id": "e099ddc4",
   "metadata": {},
   "outputs": [],
   "source": [
    "lst3 = [\"ajay\",\"sharma\",\"hello\",\"bye\"]"
   ]
  },
  {
   "cell_type": "code",
   "execution_count": 8,
   "id": "0ff9fc9b",
   "metadata": {},
   "outputs": [
    {
     "data": {
      "text/plain": [
       "True"
      ]
     },
     "execution_count": 8,
     "metadata": {},
     "output_type": "execute_result"
    }
   ],
   "source": [
    "lst1 == lst3"
   ]
  },
  {
   "cell_type": "code",
   "execution_count": 9,
   "id": "626a0b4d",
   "metadata": {},
   "outputs": [
    {
     "data": {
      "text/plain": [
       "True"
      ]
     },
     "execution_count": 9,
     "metadata": {},
     "output_type": "execute_result"
    }
   ],
   "source": [
    "2 == 2"
   ]
  },
  {
   "cell_type": "code",
   "execution_count": 10,
   "id": "31d40f80",
   "metadata": {},
   "outputs": [
    {
     "data": {
      "text/plain": [
       "False"
      ]
     },
     "execution_count": 10,
     "metadata": {},
     "output_type": "execute_result"
    }
   ],
   "source": [
    "2 == 2.1"
   ]
  },
  {
   "cell_type": "code",
   "execution_count": null,
   "id": "e11408bf",
   "metadata": {},
   "outputs": [],
   "source": []
  },
  {
   "cell_type": "code",
   "execution_count": 11,
   "id": "ac90b7c1",
   "metadata": {},
   "outputs": [],
   "source": [
    "#Negative Indexing"
   ]
  },
  {
   "cell_type": "code",
   "execution_count": 12,
   "id": "dfb7b7ec",
   "metadata": {},
   "outputs": [],
   "source": [
    "list = [1,2,3,4,5]"
   ]
  },
  {
   "cell_type": "code",
   "execution_count": 13,
   "id": "129a660d",
   "metadata": {},
   "outputs": [
    {
     "data": {
      "text/plain": [
       "5"
      ]
     },
     "execution_count": 13,
     "metadata": {},
     "output_type": "execute_result"
    }
   ],
   "source": [
    "list[-1]"
   ]
  },
  {
   "cell_type": "code",
   "execution_count": 14,
   "id": "4672bc3e",
   "metadata": {},
   "outputs": [
    {
     "data": {
      "text/plain": [
       "[3, 4, 5]"
      ]
     },
     "execution_count": 14,
     "metadata": {},
     "output_type": "execute_result"
    }
   ],
   "source": [
    "list[-3:]"
   ]
  },
  {
   "cell_type": "code",
   "execution_count": 15,
   "id": "e0a0bf44",
   "metadata": {},
   "outputs": [
    {
     "data": {
      "text/plain": [
       "[1, 2, 3, 4]"
      ]
     },
     "execution_count": 15,
     "metadata": {},
     "output_type": "execute_result"
    }
   ],
   "source": [
    "list[:-1]"
   ]
  },
  {
   "cell_type": "code",
   "execution_count": 16,
   "id": "e79b646a",
   "metadata": {},
   "outputs": [
    {
     "data": {
      "text/plain": [
       "[3, 4]"
      ]
     },
     "execution_count": 16,
     "metadata": {},
     "output_type": "execute_result"
    }
   ],
   "source": [
    "list[-3:-1]"
   ]
  },
  {
   "cell_type": "code",
   "execution_count": 17,
   "id": "5111c562",
   "metadata": {},
   "outputs": [
    {
     "data": {
      "text/plain": [
       "[3]"
      ]
     },
     "execution_count": 17,
     "metadata": {},
     "output_type": "execute_result"
    }
   ],
   "source": [
    "list[-3:-2]"
   ]
  },
  {
   "cell_type": "code",
   "execution_count": null,
   "id": "8c1ceedc",
   "metadata": {},
   "outputs": [],
   "source": []
  },
  {
   "cell_type": "code",
   "execution_count": 18,
   "id": "cbb6d7ee",
   "metadata": {},
   "outputs": [],
   "source": [
    "#List Repetition"
   ]
  },
  {
   "cell_type": "code",
   "execution_count": 19,
   "id": "7fb83303",
   "metadata": {},
   "outputs": [],
   "source": [
    "myname = [\"ajay\",\"sharma\"]"
   ]
  },
  {
   "cell_type": "code",
   "execution_count": 20,
   "id": "de6c0734",
   "metadata": {},
   "outputs": [
    {
     "data": {
      "text/plain": [
       "['ajay', 'sharma']"
      ]
     },
     "execution_count": 20,
     "metadata": {},
     "output_type": "execute_result"
    }
   ],
   "source": [
    "myname"
   ]
  },
  {
   "cell_type": "code",
   "execution_count": 21,
   "id": "3ff7fe53",
   "metadata": {},
   "outputs": [
    {
     "data": {
      "text/plain": [
       "['ajay', 'sharma', 'ajay', 'sharma']"
      ]
     },
     "execution_count": 21,
     "metadata": {},
     "output_type": "execute_result"
    }
   ],
   "source": [
    "myname*2                                    #temporary change"
   ]
  },
  {
   "cell_type": "code",
   "execution_count": 22,
   "id": "3979d588",
   "metadata": {},
   "outputs": [
    {
     "data": {
      "text/plain": [
       "['ajay', 'sharma']"
      ]
     },
     "execution_count": 22,
     "metadata": {},
     "output_type": "execute_result"
    }
   ],
   "source": [
    "myname"
   ]
  },
  {
   "cell_type": "code",
   "execution_count": 23,
   "id": "c28c677c",
   "metadata": {},
   "outputs": [],
   "source": [
    "x = myname*2"
   ]
  },
  {
   "cell_type": "code",
   "execution_count": 24,
   "id": "f9d46951",
   "metadata": {},
   "outputs": [
    {
     "data": {
      "text/plain": [
       "['ajay', 'sharma', 'ajay', 'sharma']"
      ]
     },
     "execution_count": 24,
     "metadata": {},
     "output_type": "execute_result"
    }
   ],
   "source": [
    "x"
   ]
  },
  {
   "cell_type": "code",
   "execution_count": 25,
   "id": "92327c82",
   "metadata": {},
   "outputs": [],
   "source": [
    "myname = myname*3                           #permanent change"
   ]
  },
  {
   "cell_type": "code",
   "execution_count": 26,
   "id": "c7f07bd9",
   "metadata": {},
   "outputs": [
    {
     "data": {
      "text/plain": [
       "['ajay', 'sharma', 'ajay', 'sharma', 'ajay', 'sharma']"
      ]
     },
     "execution_count": 26,
     "metadata": {},
     "output_type": "execute_result"
    }
   ],
   "source": [
    "myname"
   ]
  },
  {
   "cell_type": "code",
   "execution_count": null,
   "id": "e2206fa9",
   "metadata": {},
   "outputs": [],
   "source": []
  },
  {
   "cell_type": "code",
   "execution_count": 27,
   "id": "00635219",
   "metadata": {},
   "outputs": [],
   "source": [
    "#Concatenation"
   ]
  },
  {
   "cell_type": "code",
   "execution_count": 28,
   "id": "b1837aeb",
   "metadata": {},
   "outputs": [],
   "source": [
    "lst1 = [\"ajay\",\"sharma\"]"
   ]
  },
  {
   "cell_type": "code",
   "execution_count": 29,
   "id": "3ced82b7",
   "metadata": {},
   "outputs": [],
   "source": [
    "lst2 = [\"DS\",\"ML\"]"
   ]
  },
  {
   "cell_type": "code",
   "execution_count": 30,
   "id": "c5f5c73a",
   "metadata": {},
   "outputs": [
    {
     "data": {
      "text/plain": [
       "['ajay', 'sharma', 'DS', 'ML']"
      ]
     },
     "execution_count": 30,
     "metadata": {},
     "output_type": "execute_result"
    }
   ],
   "source": [
    "lst1 + lst2"
   ]
  },
  {
   "cell_type": "code",
   "execution_count": 31,
   "id": "c91b9036",
   "metadata": {},
   "outputs": [],
   "source": [
    "lst3 = lst1+lst2"
   ]
  },
  {
   "cell_type": "code",
   "execution_count": 32,
   "id": "3c5d18a0",
   "metadata": {},
   "outputs": [
    {
     "data": {
      "text/plain": [
       "['ajay', 'sharma', 'DS', 'ML']"
      ]
     },
     "execution_count": 32,
     "metadata": {},
     "output_type": "execute_result"
    }
   ],
   "source": [
    "lst3"
   ]
  },
  {
   "cell_type": "code",
   "execution_count": null,
   "id": "c74f872d",
   "metadata": {},
   "outputs": [],
   "source": []
  },
  {
   "cell_type": "code",
   "execution_count": 33,
   "id": "f8aaa4ac",
   "metadata": {},
   "outputs": [],
   "source": [
    "#min(list)  &  max(list)"
   ]
  },
  {
   "cell_type": "code",
   "execution_count": 34,
   "id": "cb82a8b1",
   "metadata": {},
   "outputs": [],
   "source": [
    "lst1 = [1,2,3,4,5,6,7,8,9]"
   ]
  },
  {
   "cell_type": "code",
   "execution_count": 35,
   "id": "4f94996e",
   "metadata": {},
   "outputs": [
    {
     "data": {
      "text/plain": [
       "1"
      ]
     },
     "execution_count": 35,
     "metadata": {},
     "output_type": "execute_result"
    }
   ],
   "source": [
    "min(lst1)"
   ]
  },
  {
   "cell_type": "code",
   "execution_count": 36,
   "id": "2f754969",
   "metadata": {},
   "outputs": [
    {
     "data": {
      "text/plain": [
       "9"
      ]
     },
     "execution_count": 36,
     "metadata": {},
     "output_type": "execute_result"
    }
   ],
   "source": [
    "max(lst1)"
   ]
  },
  {
   "cell_type": "code",
   "execution_count": null,
   "id": "76f379ba",
   "metadata": {},
   "outputs": [],
   "source": []
  },
  {
   "cell_type": "code",
   "execution_count": 7,
   "id": "b6200516",
   "metadata": {},
   "outputs": [],
   "source": [
    "#Python Sets {}\n",
    "# Its on user whether to store elements of defferent datatype or elements od similar datatype\n",
    "# unordered\n",
    "# It doesn't include duplicate values\n",
    "# getting values using indexing not allowed"
   ]
  },
  {
   "cell_type": "code",
   "execution_count": 5,
   "id": "1dd6cf12",
   "metadata": {},
   "outputs": [],
   "source": [
    "myset = {\"ajay\",4567,9.0,True,False}\n",
    "set2 = {\"ajay\",\"sharma\",\"ml\",\"ds\"}"
   ]
  },
  {
   "cell_type": "code",
   "execution_count": 2,
   "id": "bb699c5d",
   "metadata": {},
   "outputs": [
    {
     "data": {
      "text/plain": [
       "set"
      ]
     },
     "execution_count": 2,
     "metadata": {},
     "output_type": "execute_result"
    }
   ],
   "source": [
    "type(myset)"
   ]
  },
  {
   "cell_type": "code",
   "execution_count": 6,
   "id": "cac70612",
   "metadata": {},
   "outputs": [
    {
     "data": {
      "text/plain": [
       "{4567, 9.0, False, True, 'ajay'}"
      ]
     },
     "execution_count": 6,
     "metadata": {},
     "output_type": "execute_result"
    }
   ],
   "source": [
    "myset"
   ]
  },
  {
   "cell_type": "code",
   "execution_count": 8,
   "id": "046b1f10",
   "metadata": {},
   "outputs": [
    {
     "data": {
      "text/plain": [
       "{'ajay', 'ds', 'ml', 'sharma'}"
      ]
     },
     "execution_count": 8,
     "metadata": {},
     "output_type": "execute_result"
    }
   ],
   "source": [
    "set2"
   ]
  },
  {
   "cell_type": "code",
   "execution_count": 33,
   "id": "f1bf51a3",
   "metadata": {},
   "outputs": [],
   "source": [
    "settt = {1,1,1,1,1,2,2,2,3,3,3,3}"
   ]
  },
  {
   "cell_type": "code",
   "execution_count": 34,
   "id": "dced4eae",
   "metadata": {},
   "outputs": [
    {
     "data": {
      "text/plain": [
       "3"
      ]
     },
     "execution_count": 34,
     "metadata": {},
     "output_type": "execute_result"
    }
   ],
   "source": [
    "len(settt)"
   ]
  },
  {
   "cell_type": "code",
   "execution_count": 10,
   "id": "e2d1ac7e",
   "metadata": {},
   "outputs": [
    {
     "data": {
      "text/plain": [
       "{1, 2, 3}"
      ]
     },
     "execution_count": 10,
     "metadata": {},
     "output_type": "execute_result"
    }
   ],
   "source": [
    "settt"
   ]
  },
  {
   "cell_type": "code",
   "execution_count": 11,
   "id": "f89364ce",
   "metadata": {},
   "outputs": [
    {
     "data": {
      "text/plain": [
       "3"
      ]
     },
     "execution_count": 11,
     "metadata": {},
     "output_type": "execute_result"
    }
   ],
   "source": [
    "len(settt)"
   ]
  },
  {
   "cell_type": "code",
   "execution_count": null,
   "id": "17874be4",
   "metadata": {},
   "outputs": [],
   "source": []
  },
  {
   "cell_type": "code",
   "execution_count": 19,
   "id": "c0ed91fb",
   "metadata": {},
   "outputs": [],
   "source": [
    "#Dictionary\n",
    "# If two keys are same then last key value it will save\n",
    "# It can store different data types value"
   ]
  },
  {
   "cell_type": "code",
   "execution_count": 13,
   "id": "cb369d10",
   "metadata": {},
   "outputs": [],
   "source": [
    "dct = {\"fname\":\"ajay\",\"lname\":\"sharma\",\"add\":\"blr\"}"
   ]
  },
  {
   "cell_type": "code",
   "execution_count": 14,
   "id": "6e4fb66a",
   "metadata": {},
   "outputs": [
    {
     "data": {
      "text/plain": [
       "{'fname': 'ajay', 'lname': 'sharma', 'add': 'blr'}"
      ]
     },
     "execution_count": 14,
     "metadata": {},
     "output_type": "execute_result"
    }
   ],
   "source": [
    "dct"
   ]
  },
  {
   "cell_type": "code",
   "execution_count": 15,
   "id": "6d699d7f",
   "metadata": {},
   "outputs": [
    {
     "data": {
      "text/plain": [
       "'ajay'"
      ]
     },
     "execution_count": 15,
     "metadata": {},
     "output_type": "execute_result"
    }
   ],
   "source": [
    "dct[\"fname\"]"
   ]
  },
  {
   "cell_type": "code",
   "execution_count": 16,
   "id": "96081655",
   "metadata": {},
   "outputs": [
    {
     "data": {
      "text/plain": [
       "'blr'"
      ]
     },
     "execution_count": 16,
     "metadata": {},
     "output_type": "execute_result"
    }
   ],
   "source": [
    "dct[\"add\"]"
   ]
  },
  {
   "cell_type": "code",
   "execution_count": 3,
   "id": "84fcdff5",
   "metadata": {},
   "outputs": [],
   "source": [
    "dct1 = {\"Name\":\"Anubhav Sharma\", \"Address\":\"Noida\", \"Occupation\":\"Engineer\", \"Designation\":\"Senior Assistant Engineer\"}"
   ]
  },
  {
   "cell_type": "code",
   "execution_count": 4,
   "id": "bf09458b",
   "metadata": {},
   "outputs": [
    {
     "data": {
      "text/plain": [
       "{'Name': 'Anubhav Sharma',\n",
       " 'Address': 'Noida',\n",
       " 'Occupation': 'Engineer',\n",
       " 'Designation': 'Senior Assistant Engineer'}"
      ]
     },
     "execution_count": 4,
     "metadata": {},
     "output_type": "execute_result"
    }
   ],
   "source": [
    "dct1"
   ]
  },
  {
   "cell_type": "code",
   "execution_count": 5,
   "id": "f1bc4243",
   "metadata": {},
   "outputs": [
    {
     "data": {
      "text/plain": [
       "'Anubhav Sharma'"
      ]
     },
     "execution_count": 5,
     "metadata": {},
     "output_type": "execute_result"
    }
   ],
   "source": [
    "dct1[\"Name\"]"
   ]
  },
  {
   "cell_type": "code",
   "execution_count": 6,
   "id": "17de8711",
   "metadata": {},
   "outputs": [
    {
     "data": {
      "text/plain": [
       "'Engineer'"
      ]
     },
     "execution_count": 6,
     "metadata": {},
     "output_type": "execute_result"
    }
   ],
   "source": [
    "dct1[\"Occupation\"]"
   ]
  },
  {
   "cell_type": "code",
   "execution_count": 8,
   "id": "07e08f73",
   "metadata": {},
   "outputs": [],
   "source": [
    "dct1[\"Address\"] = \"Meerut\""
   ]
  },
  {
   "cell_type": "code",
   "execution_count": 9,
   "id": "c422458d",
   "metadata": {},
   "outputs": [
    {
     "data": {
      "text/plain": [
       "{'Name': 'Anubhav Sharma',\n",
       " 'Address': 'Meerut',\n",
       " 'Occupation': 'Engineer',\n",
       " 'Designation': 'Senior Assistant Engineer'}"
      ]
     },
     "execution_count": 9,
     "metadata": {},
     "output_type": "execute_result"
    }
   ],
   "source": [
    "dct1"
   ]
  },
  {
   "cell_type": "code",
   "execution_count": 12,
   "id": "a6f27f08",
   "metadata": {},
   "outputs": [],
   "source": [
    "dct2 = {\"course\":\"ML\", \"course\":\"DS\"}      #Duplicate example"
   ]
  },
  {
   "cell_type": "code",
   "execution_count": 11,
   "id": "b6e604f7",
   "metadata": {},
   "outputs": [
    {
     "data": {
      "text/plain": [
       "{'course': 'DS'}"
      ]
     },
     "execution_count": 11,
     "metadata": {},
     "output_type": "execute_result"
    }
   ],
   "source": [
    "dct2"
   ]
  },
  {
   "cell_type": "code",
   "execution_count": 1,
   "id": "51ad5199",
   "metadata": {},
   "outputs": [],
   "source": [
    "students = {\"studentnames\":[\"ajay\",\"pooja\",\"anubhav\"], \"Failure\":False, \"Discipline\":\"Excellent\",\"max_grade\":9.9}\n",
    "# Different data types values store example"
   ]
  },
  {
   "cell_type": "code",
   "execution_count": 2,
   "id": "5dfd1624",
   "metadata": {},
   "outputs": [
    {
     "data": {
      "text/plain": [
       "{'studentnames': ['ajay', 'pooja', 'anubhav'],\n",
       " 'Failure': False,\n",
       " 'Discipline': 'Excellent',\n",
       " 'max_grade': 9.9}"
      ]
     },
     "execution_count": 2,
     "metadata": {},
     "output_type": "execute_result"
    }
   ],
   "source": [
    "students"
   ]
  },
  {
   "cell_type": "code",
   "execution_count": 43,
   "id": "23ba2800",
   "metadata": {},
   "outputs": [
    {
     "ename": "KeyError",
     "evalue": "'studentnames[0]'",
     "output_type": "error",
     "traceback": [
      "\u001b[1;31m---------------------------------------------------------------------------\u001b[0m",
      "\u001b[1;31mKeyError\u001b[0m                                  Traceback (most recent call last)",
      "Input \u001b[1;32mIn [43]\u001b[0m, in \u001b[0;36m<cell line: 1>\u001b[1;34m()\u001b[0m\n\u001b[1;32m----> 1\u001b[0m \u001b[43mstudents\u001b[49m\u001b[43m[\u001b[49m\u001b[38;5;124;43m\"\u001b[39;49m\u001b[38;5;124;43mstudentnames[0]\u001b[39;49m\u001b[38;5;124;43m\"\u001b[39;49m\u001b[43m]\u001b[49m\n",
      "\u001b[1;31mKeyError\u001b[0m: 'studentnames[0]'"
     ]
    }
   ],
   "source": [
    "students[\"studentnames[0]\"]"
   ]
  },
  {
   "cell_type": "code",
   "execution_count": 7,
   "id": "8effeea3",
   "metadata": {},
   "outputs": [
    {
     "ename": "KeyError",
     "evalue": "'studentnames[0]'",
     "output_type": "error",
     "traceback": [
      "\u001b[1;31m---------------------------------------------------------------------------\u001b[0m",
      "\u001b[1;31mKeyError\u001b[0m                                  Traceback (most recent call last)",
      "Input \u001b[1;32mIn [7]\u001b[0m, in \u001b[0;36m<cell line: 1>\u001b[1;34m()\u001b[0m\n\u001b[1;32m----> 1\u001b[0m \u001b[43mstudents\u001b[49m\u001b[43m[\u001b[49m\u001b[38;5;124;43m\"\u001b[39;49m\u001b[38;5;124;43mstudentnames[0]\u001b[39;49m\u001b[38;5;124;43m\"\u001b[39;49m\u001b[43m]\u001b[49m\n",
      "\u001b[1;31mKeyError\u001b[0m: 'studentnames[0]'"
     ]
    }
   ],
   "source": [
    "students[\"studentnames[0]\"]"
   ]
  },
  {
   "cell_type": "code",
   "execution_count": 5,
   "id": "b23f49e0",
   "metadata": {},
   "outputs": [
    {
     "ename": "NameError",
     "evalue": "name 'studentnames' is not defined",
     "output_type": "error",
     "traceback": [
      "\u001b[1;31m---------------------------------------------------------------------------\u001b[0m",
      "\u001b[1;31mNameError\u001b[0m                                 Traceback (most recent call last)",
      "Input \u001b[1;32mIn [5]\u001b[0m, in \u001b[0;36m<cell line: 1>\u001b[1;34m()\u001b[0m\n\u001b[1;32m----> 1\u001b[0m \u001b[43mstudentnames\u001b[49m[\u001b[38;5;241m0\u001b[39m]\n",
      "\u001b[1;31mNameError\u001b[0m: name 'studentnames' is not defined"
     ]
    }
   ],
   "source": [
    "studentnames[0]"
   ]
  },
  {
   "cell_type": "code",
   "execution_count": null,
   "id": "2bfaf4e2",
   "metadata": {},
   "outputs": [],
   "source": []
  },
  {
   "cell_type": "code",
   "execution_count": null,
   "id": "353bed7e",
   "metadata": {},
   "outputs": [],
   "source": []
  },
  {
   "cell_type": "code",
   "execution_count": 20,
   "id": "38b74069",
   "metadata": {},
   "outputs": [],
   "source": [
    "#Empty Dictionary"
   ]
  },
  {
   "cell_type": "code",
   "execution_count": 44,
   "id": "8cfd98ae",
   "metadata": {},
   "outputs": [],
   "source": [
    "ept={}"
   ]
  },
  {
   "cell_type": "code",
   "execution_count": 45,
   "id": "740b9d5b",
   "metadata": {},
   "outputs": [
    {
     "data": {
      "text/plain": [
       "{}"
      ]
     },
     "execution_count": 45,
     "metadata": {},
     "output_type": "execute_result"
    }
   ],
   "source": [
    "ept"
   ]
  },
  {
   "cell_type": "code",
   "execution_count": 46,
   "id": "972f72b3",
   "metadata": {},
   "outputs": [
    {
     "data": {
      "text/plain": [
       "dict"
      ]
     },
     "execution_count": 46,
     "metadata": {},
     "output_type": "execute_result"
    }
   ],
   "source": [
    "type(ept)"
   ]
  },
  {
   "cell_type": "code",
   "execution_count": 24,
   "id": "2424f742",
   "metadata": {},
   "outputs": [],
   "source": [
    "ept[\"name\"]=\"Anubhav\""
   ]
  },
  {
   "cell_type": "code",
   "execution_count": 25,
   "id": "73708910",
   "metadata": {},
   "outputs": [
    {
     "data": {
      "text/plain": [
       "{'name': 'Anubhav'}"
      ]
     },
     "execution_count": 25,
     "metadata": {},
     "output_type": "execute_result"
    }
   ],
   "source": [
    "ept"
   ]
  },
  {
   "cell_type": "code",
   "execution_count": 26,
   "id": "d017dd1a",
   "metadata": {},
   "outputs": [],
   "source": [
    "ept[\"Place\"]=\"Meerut\""
   ]
  },
  {
   "cell_type": "code",
   "execution_count": 27,
   "id": "7415b3d3",
   "metadata": {},
   "outputs": [
    {
     "data": {
      "text/plain": [
       "{'name': 'Anubhav', 'Place': 'Meerut'}"
      ]
     },
     "execution_count": 27,
     "metadata": {},
     "output_type": "execute_result"
    }
   ],
   "source": [
    "ept"
   ]
  },
  {
   "cell_type": "code",
   "execution_count": 28,
   "id": "f036436a",
   "metadata": {},
   "outputs": [],
   "source": [
    "ept[\"Place\"]=\"Noida\""
   ]
  },
  {
   "cell_type": "code",
   "execution_count": 29,
   "id": "9a261d24",
   "metadata": {},
   "outputs": [
    {
     "data": {
      "text/plain": [
       "{'name': 'Anubhav', 'Place': 'Noida'}"
      ]
     },
     "execution_count": 29,
     "metadata": {},
     "output_type": "execute_result"
    }
   ],
   "source": [
    "ept"
   ]
  },
  {
   "cell_type": "code",
   "execution_count": 30,
   "id": "9fea8b40",
   "metadata": {},
   "outputs": [],
   "source": [
    "lst = [(\"fname\",\"Anubhav\"),(\"lname\",\"Sharma\")]         #List of different tuples"
   ]
  },
  {
   "cell_type": "code",
   "execution_count": 31,
   "id": "e18990ff",
   "metadata": {},
   "outputs": [
    {
     "data": {
      "text/plain": [
       "[('fname', 'Anubhav'), ('lname', 'Sharma')]"
      ]
     },
     "execution_count": 31,
     "metadata": {},
     "output_type": "execute_result"
    }
   ],
   "source": [
    "lst"
   ]
  },
  {
   "cell_type": "code",
   "execution_count": 47,
   "id": "7647ac2d",
   "metadata": {},
   "outputs": [],
   "source": [
    "lst = [[\"fname\",\"Anubhav\"],[\"lname\",\"Sharma\"]]         #List of different tuples"
   ]
  },
  {
   "cell_type": "code",
   "execution_count": 48,
   "id": "498df46f",
   "metadata": {},
   "outputs": [
    {
     "data": {
      "text/plain": [
       "[['fname', 'Anubhav'], ['lname', 'Sharma']]"
      ]
     },
     "execution_count": 48,
     "metadata": {},
     "output_type": "execute_result"
    }
   ],
   "source": [
    "lst"
   ]
  },
  {
   "cell_type": "code",
   "execution_count": null,
   "id": "fd535ca3",
   "metadata": {},
   "outputs": [],
   "source": []
  },
  {
   "cell_type": "code",
   "execution_count": 49,
   "id": "00252b9c",
   "metadata": {},
   "outputs": [
    {
     "data": {
      "text/plain": [
       "list"
      ]
     },
     "execution_count": 49,
     "metadata": {},
     "output_type": "execute_result"
    }
   ],
   "source": [
    "type(lst)"
   ]
  },
  {
   "cell_type": "code",
   "execution_count": 50,
   "id": "12375d9f",
   "metadata": {},
   "outputs": [],
   "source": [
    "mydct = dict(lst)"
   ]
  },
  {
   "cell_type": "code",
   "execution_count": 51,
   "id": "6337f0af",
   "metadata": {},
   "outputs": [
    {
     "data": {
      "text/plain": [
       "{'fname': 'Anubhav', 'lname': 'Sharma'}"
      ]
     },
     "execution_count": 51,
     "metadata": {},
     "output_type": "execute_result"
    }
   ],
   "source": [
    "mydct"
   ]
  },
  {
   "cell_type": "code",
   "execution_count": 36,
   "id": "ed98bd07",
   "metadata": {},
   "outputs": [
    {
     "data": {
      "text/plain": [
       "dict"
      ]
     },
     "execution_count": 36,
     "metadata": {},
     "output_type": "execute_result"
    }
   ],
   "source": [
    "type(mydct)"
   ]
  },
  {
   "cell_type": "code",
   "execution_count": null,
   "id": "3a8d1113",
   "metadata": {},
   "outputs": [],
   "source": []
  },
  {
   "cell_type": "code",
   "execution_count": 37,
   "id": "43347db2",
   "metadata": {},
   "outputs": [],
   "source": [
    "#Delete key value in Dictionary\n",
    "# del dict_varname[keyname]"
   ]
  },
  {
   "cell_type": "code",
   "execution_count": 48,
   "id": "324f37fe",
   "metadata": {},
   "outputs": [
    {
     "data": {
      "text/plain": [
       "{'fname': 'Anubhav'}"
      ]
     },
     "execution_count": 48,
     "metadata": {},
     "output_type": "execute_result"
    }
   ],
   "source": [
    "mydct"
   ]
  },
  {
   "cell_type": "code",
   "execution_count": 39,
   "id": "d13828b0",
   "metadata": {},
   "outputs": [],
   "source": [
    "mydct1 = mydct"
   ]
  },
  {
   "cell_type": "code",
   "execution_count": 40,
   "id": "bd937ccd",
   "metadata": {},
   "outputs": [
    {
     "data": {
      "text/plain": [
       "{'fname': 'Anubhav', 'lname': 'Sharma'}"
      ]
     },
     "execution_count": 40,
     "metadata": {},
     "output_type": "execute_result"
    }
   ],
   "source": [
    "mydct1"
   ]
  },
  {
   "cell_type": "code",
   "execution_count": 41,
   "id": "d8482353",
   "metadata": {},
   "outputs": [],
   "source": [
    "del mydct1[\"lname\"]"
   ]
  },
  {
   "cell_type": "code",
   "execution_count": 42,
   "id": "070ecfcd",
   "metadata": {},
   "outputs": [
    {
     "data": {
      "text/plain": [
       "{'fname': 'Anubhav'}"
      ]
     },
     "execution_count": 42,
     "metadata": {},
     "output_type": "execute_result"
    }
   ],
   "source": [
    "mydct1"
   ]
  },
  {
   "cell_type": "code",
   "execution_count": null,
   "id": "6b6e7fcc",
   "metadata": {},
   "outputs": [],
   "source": []
  },
  {
   "cell_type": "code",
   "execution_count": 45,
   "id": "76399af3",
   "metadata": {},
   "outputs": [],
   "source": [
    "#Pop Method if want to delete key but want to store somewhere else\n",
    "#dict_varname.pop(keyname)"
   ]
  },
  {
   "cell_type": "code",
   "execution_count": 46,
   "id": "a295abdb",
   "metadata": {},
   "outputs": [
    {
     "data": {
      "text/plain": [
       "{'fname': 'Anubhav'}"
      ]
     },
     "execution_count": 46,
     "metadata": {},
     "output_type": "execute_result"
    }
   ],
   "source": [
    "mydct"
   ]
  },
  {
   "cell_type": "code",
   "execution_count": 47,
   "id": "cbc84a4c",
   "metadata": {},
   "outputs": [
    {
     "data": {
      "text/plain": [
       "{'fname': 'Anubhav'}"
      ]
     },
     "execution_count": 47,
     "metadata": {},
     "output_type": "execute_result"
    }
   ],
   "source": [
    "mydct1"
   ]
  },
  {
   "cell_type": "code",
   "execution_count": 49,
   "id": "70e08d16",
   "metadata": {},
   "outputs": [
    {
     "data": {
      "text/plain": [
       "{'fname': 'Anubhav'}"
      ]
     },
     "execution_count": 49,
     "metadata": {},
     "output_type": "execute_result"
    }
   ],
   "source": [
    "mydct"
   ]
  },
  {
   "cell_type": "code",
   "execution_count": 50,
   "id": "93872666",
   "metadata": {},
   "outputs": [],
   "source": [
    "mydct[\"lname\"]=\"Sharma\""
   ]
  },
  {
   "cell_type": "code",
   "execution_count": 51,
   "id": "960b294b",
   "metadata": {},
   "outputs": [
    {
     "data": {
      "text/plain": [
       "{'fname': 'Anubhav', 'lname': 'Sharma'}"
      ]
     },
     "execution_count": 51,
     "metadata": {},
     "output_type": "execute_result"
    }
   ],
   "source": [
    "mydct"
   ]
  },
  {
   "cell_type": "code",
   "execution_count": 52,
   "id": "44023580",
   "metadata": {},
   "outputs": [],
   "source": [
    "www = mydct.pop(\"lname\")"
   ]
  },
  {
   "cell_type": "code",
   "execution_count": 53,
   "id": "3b1a54ff",
   "metadata": {},
   "outputs": [
    {
     "data": {
      "text/plain": [
       "'Sharma'"
      ]
     },
     "execution_count": 53,
     "metadata": {},
     "output_type": "execute_result"
    }
   ],
   "source": [
    "www"
   ]
  },
  {
   "cell_type": "code",
   "execution_count": 54,
   "id": "66cb75d7",
   "metadata": {},
   "outputs": [
    {
     "data": {
      "text/plain": [
       "{'fname': 'Anubhav'}"
      ]
     },
     "execution_count": 54,
     "metadata": {},
     "output_type": "execute_result"
    }
   ],
   "source": [
    "mydct"
   ]
  },
  {
   "cell_type": "code",
   "execution_count": null,
   "id": "a2463aab",
   "metadata": {},
   "outputs": [],
   "source": []
  }
 ],
 "metadata": {
  "kernelspec": {
   "display_name": "Python 3 (ipykernel)",
   "language": "python",
   "name": "python3"
  },
  "language_info": {
   "codemirror_mode": {
    "name": "ipython",
    "version": 3
   },
   "file_extension": ".py",
   "mimetype": "text/x-python",
   "name": "python",
   "nbconvert_exporter": "python",
   "pygments_lexer": "ipython3",
   "version": "3.9.12"
  }
 },
 "nbformat": 4,
 "nbformat_minor": 5
}
